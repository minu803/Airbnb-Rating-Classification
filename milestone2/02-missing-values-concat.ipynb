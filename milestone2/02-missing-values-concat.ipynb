{
  "cells": [
    {
      "cell_type": "markdown",
      "metadata": {
        "id": "oGh4RHvleA-L"
      },
      "source": [
        "# Concat All the Cities in West"
      ]
    },
    {
      "cell_type": "code",
      "execution_count": 1,
      "metadata": {
        "id": "Zs5Zxxo2iHG-"
      },
      "outputs": [],
      "source": [
        "import pandas as pd\n",
        "import numpy as np"
      ]
    },
    {
      "cell_type": "code",
      "execution_count": 2,
      "metadata": {
        "id": "xv9jE0oKJGPc"
      },
      "outputs": [],
      "source": [
        "listings_detailed_seattle = pd.read_csv('data/listings_detailed_after_na_seattle.csv')\n",
        "listings_detailed_la = pd.read_csv('data/listings_detailed_after_na_la.csv')\n",
        "listings_detailed_sf = pd.read_csv('data/listings_detailed_after_na_sf.csv')\n",
        "listings_detailed_portland = pd.read_csv('data/listings_detailed_after_na_portland.csv')\n",
        "listings_detailed_clark = pd.read_csv('data/listings_detailed_after_na_clark.csv')\n"
      ]
    },
    {
      "cell_type": "markdown",
      "metadata": {},
      "source": [
        "# Check Missing Values"
      ]
    },
    {
      "cell_type": "code",
      "execution_count": 3,
      "metadata": {
        "id": "7HiJygsxJLPA"
      },
      "outputs": [
        {
          "data": {
            "text/plain": [
              "id                                   0\n",
              "host_id                              0\n",
              "host_name                            0\n",
              "host_since                           0\n",
              "host_location                        0\n",
              "host_response_time                 720\n",
              "host_response_rate                 720\n",
              "host_acceptance_rate               455\n",
              "host_is_superhost                    0\n",
              "host_listings_count                  0\n",
              "host_total_listings_count            0\n",
              "host_verifications                   0\n",
              "host_has_profile_pic                 0\n",
              "host_identity_verified               0\n",
              "neighbourhood_cleansed               0\n",
              "latitude                             0\n",
              "longitude                            0\n",
              "room_type                            0\n",
              "accommodates                         0\n",
              "bathrooms_text                       0\n",
              "bedrooms                             0\n",
              "beds                                 0\n",
              "amenities                            0\n",
              "price                                0\n",
              "number_of_reviews                    0\n",
              "review_scores_value               1091\n",
              "calculated_host_listings_count       0\n",
              "amenities_count                      0\n",
              "city                                 0\n",
              "num_bath                             0\n",
              "dtype: int64"
            ]
          },
          "execution_count": 3,
          "metadata": {},
          "output_type": "execute_result"
        }
      ],
      "source": [
        "listings_detailed_seattle.isnull().sum()"
      ]
    },
    {
      "cell_type": "code",
      "execution_count": 4,
      "metadata": {},
      "outputs": [
        {
          "data": {
            "text/plain": [
              "id                                    0\n",
              "host_id                               0\n",
              "host_name                             2\n",
              "host_since                            0\n",
              "host_location                         0\n",
              "host_response_time                 9368\n",
              "host_response_rate                 9368\n",
              "host_acceptance_rate               8337\n",
              "host_is_superhost                     0\n",
              "host_listings_count                   0\n",
              "host_total_listings_count             0\n",
              "host_verifications                    0\n",
              "host_has_profile_pic                  0\n",
              "host_identity_verified                0\n",
              "neighbourhood_cleansed                0\n",
              "latitude                              0\n",
              "longitude                             0\n",
              "room_type                             0\n",
              "accommodates                          0\n",
              "bathrooms_text                        0\n",
              "bedrooms                              0\n",
              "beds                                  0\n",
              "amenities                             0\n",
              "price                                 0\n",
              "number_of_reviews                     0\n",
              "review_scores_value               11926\n",
              "calculated_host_listings_count        0\n",
              "amenities_count                       0\n",
              "city                                  0\n",
              "num_bath                              0\n",
              "dtype: int64"
            ]
          },
          "execution_count": 4,
          "metadata": {},
          "output_type": "execute_result"
        }
      ],
      "source": [
        "listings_detailed_la.isnull().sum()"
      ]
    },
    {
      "cell_type": "code",
      "execution_count": 5,
      "metadata": {},
      "outputs": [
        {
          "data": {
            "text/plain": [
              "id                                   0\n",
              "host_id                              0\n",
              "host_name                            0\n",
              "host_since                           0\n",
              "host_location                        0\n",
              "host_response_time                1018\n",
              "host_response_rate                1018\n",
              "host_acceptance_rate               801\n",
              "host_is_superhost                    0\n",
              "host_listings_count                  0\n",
              "host_total_listings_count            0\n",
              "host_verifications                   0\n",
              "host_has_profile_pic                 0\n",
              "host_identity_verified               0\n",
              "neighbourhood_cleansed               0\n",
              "latitude                             0\n",
              "longitude                            0\n",
              "room_type                            0\n",
              "accommodates                         0\n",
              "bathrooms_text                       0\n",
              "bedrooms                             0\n",
              "beds                                 0\n",
              "amenities                            0\n",
              "price                                0\n",
              "number_of_reviews                    0\n",
              "review_scores_value               1346\n",
              "calculated_host_listings_count       0\n",
              "amenities_count                      0\n",
              "city                                 0\n",
              "num_bath                             0\n",
              "dtype: int64"
            ]
          },
          "execution_count": 5,
          "metadata": {},
          "output_type": "execute_result"
        }
      ],
      "source": [
        "listings_detailed_sf.isnull().sum()"
      ]
    },
    {
      "cell_type": "code",
      "execution_count": 6,
      "metadata": {},
      "outputs": [
        {
          "data": {
            "text/plain": [
              "id                                  0\n",
              "host_id                             0\n",
              "host_name                           0\n",
              "host_since                          0\n",
              "host_location                       0\n",
              "host_response_time                681\n",
              "host_response_rate                681\n",
              "host_acceptance_rate              388\n",
              "host_is_superhost                   0\n",
              "host_listings_count                 0\n",
              "host_total_listings_count           0\n",
              "host_verifications                  0\n",
              "host_has_profile_pic                0\n",
              "host_identity_verified              0\n",
              "neighbourhood_cleansed              0\n",
              "latitude                            0\n",
              "longitude                           0\n",
              "room_type                           0\n",
              "accommodates                        0\n",
              "bathrooms_text                      0\n",
              "bedrooms                            0\n",
              "beds                                0\n",
              "amenities                           0\n",
              "price                               0\n",
              "number_of_reviews                   0\n",
              "review_scores_value               625\n",
              "calculated_host_listings_count      0\n",
              "amenities_count                     0\n",
              "city                                0\n",
              "num_bath                            0\n",
              "dtype: int64"
            ]
          },
          "execution_count": 6,
          "metadata": {},
          "output_type": "execute_result"
        }
      ],
      "source": [
        "listings_detailed_portland.isnull().sum()"
      ]
    },
    {
      "cell_type": "code",
      "execution_count": 7,
      "metadata": {},
      "outputs": [
        {
          "data": {
            "text/plain": [
              "id                                   0\n",
              "host_id                              0\n",
              "host_name                            0\n",
              "host_since                           0\n",
              "host_location                        0\n",
              "host_response_time                 683\n",
              "host_response_rate                 683\n",
              "host_acceptance_rate               464\n",
              "host_is_superhost                    0\n",
              "host_listings_count                  0\n",
              "host_total_listings_count            0\n",
              "host_verifications                   0\n",
              "host_has_profile_pic                 0\n",
              "host_identity_verified               0\n",
              "neighbourhood_cleansed               0\n",
              "latitude                             0\n",
              "longitude                            0\n",
              "room_type                            0\n",
              "accommodates                         0\n",
              "bathrooms_text                       0\n",
              "bedrooms                             0\n",
              "beds                                 0\n",
              "amenities                            0\n",
              "price                                0\n",
              "number_of_reviews                    0\n",
              "review_scores_value               3650\n",
              "calculated_host_listings_count       0\n",
              "amenities_count                      0\n",
              "city                                 0\n",
              "num_bath                             0\n",
              "dtype: int64"
            ]
          },
          "execution_count": 7,
          "metadata": {},
          "output_type": "execute_result"
        }
      ],
      "source": [
        "listings_detailed_clark.isnull().sum()"
      ]
    },
    {
      "cell_type": "markdown",
      "metadata": {},
      "source": [
        "# Concat All the Data"
      ]
    },
    {
      "cell_type": "code",
      "execution_count": 8,
      "metadata": {},
      "outputs": [],
      "source": [
        "# Assuming you have a list of DataFrames\n",
        "dataframes_list = [listings_detailed_seattle,listings_detailed_la,listings_detailed_sf,listings_detailed_portland,listings_detailed_clark]  \n",
        "\n",
        "# Concatenate all DataFrames in the list\n",
        "stacked_data = pd.concat(dataframes_list, ignore_index=True)"
      ]
    },
    {
      "cell_type": "code",
      "execution_count": 9,
      "metadata": {},
      "outputs": [
        {
          "data": {
            "text/plain": [
              "(74259, 30)"
            ]
          },
          "execution_count": 9,
          "metadata": {},
          "output_type": "execute_result"
        }
      ],
      "source": [
        "stacked_data.shape"
      ]
    },
    {
      "cell_type": "code",
      "execution_count": 10,
      "metadata": {},
      "outputs": [
        {
          "data": {
            "text/html": [
              "<div>\n",
              "<style scoped>\n",
              "    .dataframe tbody tr th:only-of-type {\n",
              "        vertical-align: middle;\n",
              "    }\n",
              "\n",
              "    .dataframe tbody tr th {\n",
              "        vertical-align: top;\n",
              "    }\n",
              "\n",
              "    .dataframe thead th {\n",
              "        text-align: right;\n",
              "    }\n",
              "</style>\n",
              "<table border=\"1\" class=\"dataframe\">\n",
              "  <thead>\n",
              "    <tr style=\"text-align: right;\">\n",
              "      <th></th>\n",
              "      <th>id</th>\n",
              "      <th>host_id</th>\n",
              "      <th>host_name</th>\n",
              "      <th>host_since</th>\n",
              "      <th>host_location</th>\n",
              "      <th>host_response_time</th>\n",
              "      <th>host_response_rate</th>\n",
              "      <th>host_acceptance_rate</th>\n",
              "      <th>host_is_superhost</th>\n",
              "      <th>host_listings_count</th>\n",
              "      <th>...</th>\n",
              "      <th>bedrooms</th>\n",
              "      <th>beds</th>\n",
              "      <th>amenities</th>\n",
              "      <th>price</th>\n",
              "      <th>number_of_reviews</th>\n",
              "      <th>review_scores_value</th>\n",
              "      <th>calculated_host_listings_count</th>\n",
              "      <th>amenities_count</th>\n",
              "      <th>city</th>\n",
              "      <th>num_bath</th>\n",
              "    </tr>\n",
              "  </thead>\n",
              "  <tbody>\n",
              "    <tr>\n",
              "      <th>0</th>\n",
              "      <td>6606</td>\n",
              "      <td>14942</td>\n",
              "      <td>Joyce</td>\n",
              "      <td>2009-04-26</td>\n",
              "      <td>Seattle, WA</td>\n",
              "      <td>within a few hours</td>\n",
              "      <td>100%</td>\n",
              "      <td>94%</td>\n",
              "      <td>f</td>\n",
              "      <td>5.0</td>\n",
              "      <td>...</td>\n",
              "      <td>1.0</td>\n",
              "      <td>1.0</td>\n",
              "      <td>[\"Air conditioning\", \"Hair dryer\", \"Bed linens...</td>\n",
              "      <td>99.0</td>\n",
              "      <td>159</td>\n",
              "      <td>4.57</td>\n",
              "      <td>3</td>\n",
              "      <td>27</td>\n",
              "      <td>Seattle</td>\n",
              "      <td>1.0</td>\n",
              "    </tr>\n",
              "    <tr>\n",
              "      <th>1</th>\n",
              "      <td>9419</td>\n",
              "      <td>30559</td>\n",
              "      <td>Angielena</td>\n",
              "      <td>2009-08-09</td>\n",
              "      <td>Seattle, WA</td>\n",
              "      <td>within an hour</td>\n",
              "      <td>100%</td>\n",
              "      <td>98%</td>\n",
              "      <td>t</td>\n",
              "      <td>9.0</td>\n",
              "      <td>...</td>\n",
              "      <td>1.0</td>\n",
              "      <td>2.0</td>\n",
              "      <td>[\"Long term stays allowed\", \"Shared patio or b...</td>\n",
              "      <td>55.0</td>\n",
              "      <td>175</td>\n",
              "      <td>4.65</td>\n",
              "      <td>9</td>\n",
              "      <td>31</td>\n",
              "      <td>Seattle</td>\n",
              "      <td>3.0</td>\n",
              "    </tr>\n",
              "    <tr>\n",
              "      <th>2</th>\n",
              "      <td>9531</td>\n",
              "      <td>31481</td>\n",
              "      <td>Cassie</td>\n",
              "      <td>2009-08-13</td>\n",
              "      <td>Seattle, WA</td>\n",
              "      <td>within a few hours</td>\n",
              "      <td>100%</td>\n",
              "      <td>77%</td>\n",
              "      <td>t</td>\n",
              "      <td>2.0</td>\n",
              "      <td>...</td>\n",
              "      <td>2.0</td>\n",
              "      <td>3.0</td>\n",
              "      <td>[\"Long term stays allowed\", \"Conditioner\", \"Cl...</td>\n",
              "      <td>175.0</td>\n",
              "      <td>71</td>\n",
              "      <td>4.90</td>\n",
              "      <td>2</td>\n",
              "      <td>63</td>\n",
              "      <td>Seattle</td>\n",
              "      <td>1.0</td>\n",
              "    </tr>\n",
              "    <tr>\n",
              "      <th>3</th>\n",
              "      <td>9534</td>\n",
              "      <td>31481</td>\n",
              "      <td>Cassie</td>\n",
              "      <td>2009-08-13</td>\n",
              "      <td>Seattle, WA</td>\n",
              "      <td>within a few hours</td>\n",
              "      <td>100%</td>\n",
              "      <td>77%</td>\n",
              "      <td>t</td>\n",
              "      <td>2.0</td>\n",
              "      <td>...</td>\n",
              "      <td>2.0</td>\n",
              "      <td>2.0</td>\n",
              "      <td>[\"Long term stays allowed\", \"Conditioner\", \"Cl...</td>\n",
              "      <td>135.0</td>\n",
              "      <td>73</td>\n",
              "      <td>4.94</td>\n",
              "      <td>2</td>\n",
              "      <td>57</td>\n",
              "      <td>Seattle</td>\n",
              "      <td>1.0</td>\n",
              "    </tr>\n",
              "    <tr>\n",
              "      <th>4</th>\n",
              "      <td>9596</td>\n",
              "      <td>14942</td>\n",
              "      <td>Joyce</td>\n",
              "      <td>2009-04-26</td>\n",
              "      <td>Seattle, WA</td>\n",
              "      <td>within a few hours</td>\n",
              "      <td>100%</td>\n",
              "      <td>94%</td>\n",
              "      <td>f</td>\n",
              "      <td>5.0</td>\n",
              "      <td>...</td>\n",
              "      <td>1.0</td>\n",
              "      <td>4.0</td>\n",
              "      <td>[\"Stove\", \"Hair dryer\", \"Shampoo\", \"Coffee mak...</td>\n",
              "      <td>130.0</td>\n",
              "      <td>97</td>\n",
              "      <td>4.56</td>\n",
              "      <td>3</td>\n",
              "      <td>28</td>\n",
              "      <td>Seattle</td>\n",
              "      <td>1.0</td>\n",
              "    </tr>\n",
              "  </tbody>\n",
              "</table>\n",
              "<p>5 rows × 30 columns</p>\n",
              "</div>"
            ],
            "text/plain": [
              "     id  host_id  host_name  host_since host_location  host_response_time  \\\n",
              "0  6606    14942      Joyce  2009-04-26   Seattle, WA  within a few hours   \n",
              "1  9419    30559  Angielena  2009-08-09   Seattle, WA      within an hour   \n",
              "2  9531    31481     Cassie  2009-08-13   Seattle, WA  within a few hours   \n",
              "3  9534    31481     Cassie  2009-08-13   Seattle, WA  within a few hours   \n",
              "4  9596    14942      Joyce  2009-04-26   Seattle, WA  within a few hours   \n",
              "\n",
              "  host_response_rate host_acceptance_rate host_is_superhost  \\\n",
              "0               100%                  94%                 f   \n",
              "1               100%                  98%                 t   \n",
              "2               100%                  77%                 t   \n",
              "3               100%                  77%                 t   \n",
              "4               100%                  94%                 f   \n",
              "\n",
              "   host_listings_count  ...  bedrooms beds  \\\n",
              "0                  5.0  ...       1.0  1.0   \n",
              "1                  9.0  ...       1.0  2.0   \n",
              "2                  2.0  ...       2.0  3.0   \n",
              "3                  2.0  ...       2.0  2.0   \n",
              "4                  5.0  ...       1.0  4.0   \n",
              "\n",
              "                                           amenities  price number_of_reviews  \\\n",
              "0  [\"Air conditioning\", \"Hair dryer\", \"Bed linens...   99.0               159   \n",
              "1  [\"Long term stays allowed\", \"Shared patio or b...   55.0               175   \n",
              "2  [\"Long term stays allowed\", \"Conditioner\", \"Cl...  175.0                71   \n",
              "3  [\"Long term stays allowed\", \"Conditioner\", \"Cl...  135.0                73   \n",
              "4  [\"Stove\", \"Hair dryer\", \"Shampoo\", \"Coffee mak...  130.0                97   \n",
              "\n",
              "   review_scores_value  calculated_host_listings_count amenities_count  \\\n",
              "0                 4.57                               3              27   \n",
              "1                 4.65                               9              31   \n",
              "2                 4.90                               2              63   \n",
              "3                 4.94                               2              57   \n",
              "4                 4.56                               3              28   \n",
              "\n",
              "      city num_bath  \n",
              "0  Seattle      1.0  \n",
              "1  Seattle      3.0  \n",
              "2  Seattle      1.0  \n",
              "3  Seattle      1.0  \n",
              "4  Seattle      1.0  \n",
              "\n",
              "[5 rows x 30 columns]"
            ]
          },
          "execution_count": 10,
          "metadata": {},
          "output_type": "execute_result"
        }
      ],
      "source": [
        "stacked_data"
      ]
    },
    {
      "cell_type": "code",
      "execution_count": 11,
      "metadata": {},
      "outputs": [],
      "source": [
        "stacked_data.rename(columns={'neighbourhood_cleansed': 'neighborhood'}, inplace=True)"
      ]
    },
    {
      "cell_type": "code",
      "execution_count": 13,
      "metadata": {},
      "outputs": [
        {
          "data": {
            "text/plain": [
              "0                 Wallingford\n",
              "1                  Georgetown\n",
              "2              Fairmount Park\n",
              "3              Fairmount Park\n",
              "4                 Wallingford\n",
              "                 ...         \n",
              "74254    Unincorporated Areas\n",
              "74255    Unincorporated Areas\n",
              "74256    Unincorporated Areas\n",
              "74257       City of Henderson\n",
              "74258    Unincorporated Areas\n",
              "Name: neighborhood, Length: 74259, dtype: object"
            ]
          },
          "execution_count": 13,
          "metadata": {},
          "output_type": "execute_result"
        }
      ],
      "source": [
        "stacked_data['neighborhood']"
      ]
    },
    {
      "cell_type": "code",
      "execution_count": 14,
      "metadata": {},
      "outputs": [],
      "source": [
        "stacked_data.to_csv('data/listings_detailed_after_na_west.csv', index=False)"
      ]
    },
    {
      "cell_type": "code",
      "execution_count": null,
      "metadata": {},
      "outputs": [],
      "source": []
    }
  ],
  "metadata": {
    "colab": {
      "provenance": []
    },
    "kernelspec": {
      "display_name": "Python 3",
      "name": "python3"
    },
    "language_info": {
      "codemirror_mode": {
        "name": "ipython",
        "version": 3
      },
      "file_extension": ".py",
      "mimetype": "text/x-python",
      "name": "python",
      "nbconvert_exporter": "python",
      "pygments_lexer": "ipython3",
      "version": "3.11.4"
    }
  },
  "nbformat": 4,
  "nbformat_minor": 0
}
