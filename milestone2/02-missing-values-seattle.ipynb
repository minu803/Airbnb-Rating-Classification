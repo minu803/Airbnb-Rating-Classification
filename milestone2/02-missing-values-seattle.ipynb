{
  "cells": [
    {
      "cell_type": "markdown",
      "metadata": {
        "id": "oGh4RHvleA-L"
      },
      "source": [
        "# Seattle"
      ]
    },
    {
      "cell_type": "code",
      "execution_count": 1,
      "metadata": {
        "id": "Zs5Zxxo2iHG-"
      },
      "outputs": [],
      "source": [
        "import pandas as pd\n",
        "import numpy as np"
      ]
    },
    {
      "cell_type": "code",
      "execution_count": 2,
      "metadata": {
        "id": "xv9jE0oKJGPc"
      },
      "outputs": [],
      "source": [
        "# calendar = pd.read_csv('usa/Seattle/calendar.csv')\n",
        "# listings = pd.read_csv('usa/Seattle/listings.csv')\n",
        "listings_detailed = pd.read_csv('usa/Seattle/listings_detailed.csv')"
      ]
    },
    {
      "cell_type": "code",
      "execution_count": 3,
      "metadata": {
        "id": "7HiJygsxJLPA"
      },
      "outputs": [
        {
          "data": {
            "text/plain": [
              "(6376, 75)"
            ]
          },
          "execution_count": 3,
          "metadata": {},
          "output_type": "execute_result"
        }
      ],
      "source": [
        "listings_detailed.shape"
      ]
    },
    {
      "cell_type": "markdown",
      "metadata": {},
      "source": [
        "# Delete Unnecessary Columns"
      ]
    },
    {
      "cell_type": "code",
      "execution_count": 4,
      "metadata": {},
      "outputs": [],
      "source": [
        "# Columns you want to keep\n",
        "columns_to_keep = [\n",
        "    'id', 'host_id', 'host_name', 'host_since', 'host_location', \n",
        "    'host_response_time', 'host_response_rate', 'host_acceptance_rate', 'host_is_superhost',\n",
        "    'host_listings_count', 'host_total_listings_count', 'host_verifications', 'host_has_profile_pic',\n",
        "    'host_identity_verified', 'neighbourhood', 'neighbourhood_cleansed', 'latitude', 'longitude',\n",
        "    'room_type', 'accommodates', 'bathrooms', 'bathrooms_text', 'bedrooms', 'beds', 'amenities',\n",
        "    'price', 'number_of_reviews', 'review_scores_value', 'calculated_host_listings_count'\n",
        "]\n",
        "\n",
        "# Dropping the columns that are not in 'columns_to_keep'\n",
        "listings_detailed = listings_detailed[columns_to_keep]"
      ]
    },
    {
      "cell_type": "code",
      "execution_count": 5,
      "metadata": {},
      "outputs": [
        {
          "data": {
            "text/plain": [
              "(6376, 29)"
            ]
          },
          "execution_count": 5,
          "metadata": {},
          "output_type": "execute_result"
        }
      ],
      "source": [
        "listings_detailed.shape"
      ]
    },
    {
      "cell_type": "code",
      "execution_count": 6,
      "metadata": {},
      "outputs": [],
      "source": [
        "# Save as a new csv file\n",
        "listings_detailed.to_csv('listings_detailed_clean_seattle.csv', index=False)"
      ]
    },
    {
      "cell_type": "markdown",
      "metadata": {},
      "source": [
        "# Remove Entries where 'price' and 'accomodates' is zero / NA"
      ]
    },
    {
      "cell_type": "markdown",
      "metadata": {},
      "source": [
        "## Pre-processing on 'price' column"
      ]
    },
    {
      "cell_type": "code",
      "execution_count": 7,
      "metadata": {},
      "outputs": [],
      "source": [
        "# Remove the dollar sign from the price column and change the type to float\n",
        "listings_detailed['price'] = listings_detailed['price'].replace('[\\$,]', '', regex=True).astype(float)"
      ]
    },
    {
      "cell_type": "code",
      "execution_count": 8,
      "metadata": {},
      "outputs": [
        {
          "data": {
            "text/html": [
              "<div>\n",
              "<style scoped>\n",
              "    .dataframe tbody tr th:only-of-type {\n",
              "        vertical-align: middle;\n",
              "    }\n",
              "\n",
              "    .dataframe tbody tr th {\n",
              "        vertical-align: top;\n",
              "    }\n",
              "\n",
              "    .dataframe thead th {\n",
              "        text-align: right;\n",
              "    }\n",
              "</style>\n",
              "<table border=\"1\" class=\"dataframe\">\n",
              "  <thead>\n",
              "    <tr style=\"text-align: right;\">\n",
              "      <th></th>\n",
              "      <th>id</th>\n",
              "      <th>host_id</th>\n",
              "      <th>host_name</th>\n",
              "      <th>host_since</th>\n",
              "      <th>host_location</th>\n",
              "      <th>host_response_time</th>\n",
              "      <th>host_response_rate</th>\n",
              "      <th>host_acceptance_rate</th>\n",
              "      <th>host_is_superhost</th>\n",
              "      <th>host_listings_count</th>\n",
              "      <th>...</th>\n",
              "      <th>accommodates</th>\n",
              "      <th>bathrooms</th>\n",
              "      <th>bathrooms_text</th>\n",
              "      <th>bedrooms</th>\n",
              "      <th>beds</th>\n",
              "      <th>amenities</th>\n",
              "      <th>price</th>\n",
              "      <th>number_of_reviews</th>\n",
              "      <th>review_scores_value</th>\n",
              "      <th>calculated_host_listings_count</th>\n",
              "    </tr>\n",
              "  </thead>\n",
              "  <tbody>\n",
              "    <tr>\n",
              "      <th>1944</th>\n",
              "      <td>34505734</td>\n",
              "      <td>60645407</td>\n",
              "      <td>Alyssa</td>\n",
              "      <td>2016-02-27</td>\n",
              "      <td>Seattle, WA</td>\n",
              "      <td>within an hour</td>\n",
              "      <td>75%</td>\n",
              "      <td>93%</td>\n",
              "      <td>t</td>\n",
              "      <td>1</td>\n",
              "      <td>...</td>\n",
              "      <td>6</td>\n",
              "      <td>NaN</td>\n",
              "      <td>1 bath</td>\n",
              "      <td>2.0</td>\n",
              "      <td>2.0</td>\n",
              "      <td>[\"Long term stays allowed\", \"Washer\", \"Dryer\",...</td>\n",
              "      <td>10.0</td>\n",
              "      <td>96</td>\n",
              "      <td>4.85</td>\n",
              "      <td>1</td>\n",
              "    </tr>\n",
              "  </tbody>\n",
              "</table>\n",
              "<p>1 rows × 29 columns</p>\n",
              "</div>"
            ],
            "text/plain": [
              "            id   host_id host_name  host_since host_location  \\\n",
              "1944  34505734  60645407    Alyssa  2016-02-27   Seattle, WA   \n",
              "\n",
              "     host_response_time host_response_rate host_acceptance_rate  \\\n",
              "1944     within an hour                75%                  93%   \n",
              "\n",
              "     host_is_superhost  host_listings_count  ...  accommodates bathrooms  \\\n",
              "1944                 t                    1  ...             6       NaN   \n",
              "\n",
              "     bathrooms_text bedrooms beds  \\\n",
              "1944         1 bath      2.0  2.0   \n",
              "\n",
              "                                              amenities  price  \\\n",
              "1944  [\"Long term stays allowed\", \"Washer\", \"Dryer\",...   10.0   \n",
              "\n",
              "      number_of_reviews review_scores_value  calculated_host_listings_count  \n",
              "1944                 96                4.85                               1  \n",
              "\n",
              "[1 rows x 29 columns]"
            ]
          },
          "execution_count": 8,
          "metadata": {},
          "output_type": "execute_result"
        }
      ],
      "source": [
        "# Test: Correct filtering expression\n",
        "filtered_df = listings_detailed[listings_detailed['price'] == 10]\n",
        "filtered_df"
      ]
    },
    {
      "cell_type": "code",
      "execution_count": 9,
      "metadata": {},
      "outputs": [
        {
          "name": "stdout",
          "output_type": "stream",
          "text": [
            "1\n"
          ]
        }
      ],
      "source": [
        "price_zero_or_na_count = listings_detailed['price'].isnull().sum() + (listings_detailed['price'] == 0).sum()\n",
        "print(price_zero_or_na_count)\n"
      ]
    },
    {
      "cell_type": "code",
      "execution_count": 10,
      "metadata": {},
      "outputs": [
        {
          "data": {
            "text/html": [
              "<div>\n",
              "<style scoped>\n",
              "    .dataframe tbody tr th:only-of-type {\n",
              "        vertical-align: middle;\n",
              "    }\n",
              "\n",
              "    .dataframe tbody tr th {\n",
              "        vertical-align: top;\n",
              "    }\n",
              "\n",
              "    .dataframe thead th {\n",
              "        text-align: right;\n",
              "    }\n",
              "</style>\n",
              "<table border=\"1\" class=\"dataframe\">\n",
              "  <thead>\n",
              "    <tr style=\"text-align: right;\">\n",
              "      <th></th>\n",
              "      <th>id</th>\n",
              "      <th>host_id</th>\n",
              "      <th>host_name</th>\n",
              "      <th>host_since</th>\n",
              "      <th>host_location</th>\n",
              "      <th>host_response_time</th>\n",
              "      <th>host_response_rate</th>\n",
              "      <th>host_acceptance_rate</th>\n",
              "      <th>host_is_superhost</th>\n",
              "      <th>host_listings_count</th>\n",
              "      <th>...</th>\n",
              "      <th>accommodates</th>\n",
              "      <th>bathrooms</th>\n",
              "      <th>bathrooms_text</th>\n",
              "      <th>bedrooms</th>\n",
              "      <th>beds</th>\n",
              "      <th>amenities</th>\n",
              "      <th>price</th>\n",
              "      <th>number_of_reviews</th>\n",
              "      <th>review_scores_value</th>\n",
              "      <th>calculated_host_listings_count</th>\n",
              "    </tr>\n",
              "  </thead>\n",
              "  <tbody>\n",
              "    <tr>\n",
              "      <th>2920</th>\n",
              "      <td>49229073</td>\n",
              "      <td>267653164</td>\n",
              "      <td>Hotel Theodore</td>\n",
              "      <td>2019-06-10</td>\n",
              "      <td>Seattle, WA</td>\n",
              "      <td>within an hour</td>\n",
              "      <td>100%</td>\n",
              "      <td>88%</td>\n",
              "      <td>NaN</td>\n",
              "      <td>14</td>\n",
              "      <td>...</td>\n",
              "      <td>0</td>\n",
              "      <td>NaN</td>\n",
              "      <td>NaN</td>\n",
              "      <td>NaN</td>\n",
              "      <td>NaN</td>\n",
              "      <td>[\"Air conditioning\", \"Crib\", \"First aid kit\", ...</td>\n",
              "      <td>0.0</td>\n",
              "      <td>179</td>\n",
              "      <td>4.67</td>\n",
              "      <td>1</td>\n",
              "    </tr>\n",
              "  </tbody>\n",
              "</table>\n",
              "<p>1 rows × 29 columns</p>\n",
              "</div>"
            ],
            "text/plain": [
              "            id    host_id       host_name  host_since host_location  \\\n",
              "2920  49229073  267653164  Hotel Theodore  2019-06-10   Seattle, WA   \n",
              "\n",
              "     host_response_time host_response_rate host_acceptance_rate  \\\n",
              "2920     within an hour               100%                  88%   \n",
              "\n",
              "     host_is_superhost  host_listings_count  ...  accommodates bathrooms  \\\n",
              "2920               NaN                   14  ...             0       NaN   \n",
              "\n",
              "     bathrooms_text bedrooms beds  \\\n",
              "2920            NaN      NaN  NaN   \n",
              "\n",
              "                                              amenities  price  \\\n",
              "2920  [\"Air conditioning\", \"Crib\", \"First aid kit\", ...    0.0   \n",
              "\n",
              "      number_of_reviews review_scores_value  calculated_host_listings_count  \n",
              "2920                179                4.67                               1  \n",
              "\n",
              "[1 rows x 29 columns]"
            ]
          },
          "execution_count": 10,
          "metadata": {},
          "output_type": "execute_result"
        }
      ],
      "source": [
        "# Filter listings where price is either null or equals 0\n",
        "listings_detailed.loc[listings_detailed['price'].isnull() | (listings_detailed['price'] == 0)]"
      ]
    },
    {
      "cell_type": "code",
      "execution_count": 11,
      "metadata": {},
      "outputs": [
        {
          "data": {
            "text/html": [
              "<div>\n",
              "<style scoped>\n",
              "    .dataframe tbody tr th:only-of-type {\n",
              "        vertical-align: middle;\n",
              "    }\n",
              "\n",
              "    .dataframe tbody tr th {\n",
              "        vertical-align: top;\n",
              "    }\n",
              "\n",
              "    .dataframe thead th {\n",
              "        text-align: right;\n",
              "    }\n",
              "</style>\n",
              "<table border=\"1\" class=\"dataframe\">\n",
              "  <thead>\n",
              "    <tr style=\"text-align: right;\">\n",
              "      <th></th>\n",
              "      <th>id</th>\n",
              "      <th>host_id</th>\n",
              "      <th>host_name</th>\n",
              "      <th>host_since</th>\n",
              "      <th>host_location</th>\n",
              "      <th>host_response_time</th>\n",
              "      <th>host_response_rate</th>\n",
              "      <th>host_acceptance_rate</th>\n",
              "      <th>host_is_superhost</th>\n",
              "      <th>host_listings_count</th>\n",
              "      <th>...</th>\n",
              "      <th>accommodates</th>\n",
              "      <th>bathrooms</th>\n",
              "      <th>bathrooms_text</th>\n",
              "      <th>bedrooms</th>\n",
              "      <th>beds</th>\n",
              "      <th>amenities</th>\n",
              "      <th>price</th>\n",
              "      <th>number_of_reviews</th>\n",
              "      <th>review_scores_value</th>\n",
              "      <th>calculated_host_listings_count</th>\n",
              "    </tr>\n",
              "  </thead>\n",
              "  <tbody>\n",
              "    <tr>\n",
              "      <th>2920</th>\n",
              "      <td>49229073</td>\n",
              "      <td>267653164</td>\n",
              "      <td>Hotel Theodore</td>\n",
              "      <td>2019-06-10</td>\n",
              "      <td>Seattle, WA</td>\n",
              "      <td>within an hour</td>\n",
              "      <td>100%</td>\n",
              "      <td>88%</td>\n",
              "      <td>NaN</td>\n",
              "      <td>14</td>\n",
              "      <td>...</td>\n",
              "      <td>0</td>\n",
              "      <td>NaN</td>\n",
              "      <td>NaN</td>\n",
              "      <td>NaN</td>\n",
              "      <td>NaN</td>\n",
              "      <td>[\"Air conditioning\", \"Crib\", \"First aid kit\", ...</td>\n",
              "      <td>0.0</td>\n",
              "      <td>179</td>\n",
              "      <td>4.67</td>\n",
              "      <td>1</td>\n",
              "    </tr>\n",
              "  </tbody>\n",
              "</table>\n",
              "<p>1 rows × 29 columns</p>\n",
              "</div>"
            ],
            "text/plain": [
              "            id    host_id       host_name  host_since host_location  \\\n",
              "2920  49229073  267653164  Hotel Theodore  2019-06-10   Seattle, WA   \n",
              "\n",
              "     host_response_time host_response_rate host_acceptance_rate  \\\n",
              "2920     within an hour               100%                  88%   \n",
              "\n",
              "     host_is_superhost  host_listings_count  ...  accommodates bathrooms  \\\n",
              "2920               NaN                   14  ...             0       NaN   \n",
              "\n",
              "     bathrooms_text bedrooms beds  \\\n",
              "2920            NaN      NaN  NaN   \n",
              "\n",
              "                                              amenities  price  \\\n",
              "2920  [\"Air conditioning\", \"Crib\", \"First aid kit\", ...    0.0   \n",
              "\n",
              "      number_of_reviews review_scores_value  calculated_host_listings_count  \n",
              "2920                179                4.67                               1  \n",
              "\n",
              "[1 rows x 29 columns]"
            ]
          },
          "execution_count": 11,
          "metadata": {},
          "output_type": "execute_result"
        }
      ],
      "source": [
        "# Filter listings where accommodates is either null or equals 0\n",
        "listings_detailed.loc[listings_detailed['accommodates'].isnull() | (listings_detailed['accommodates'] == 0)]"
      ]
    },
    {
      "cell_type": "markdown",
      "metadata": {},
      "source": [
        "## Create Function to Identify the Zero/NA values and Remove them"
      ]
    },
    {
      "cell_type": "code",
      "execution_count": 12,
      "metadata": {},
      "outputs": [],
      "source": [
        "def clean_listings(df):\n",
        "    \"\"\"\n",
        "    Removes listings from the dataframe where price is zero/NA or accommodates is zero/NA.\n",
        "    Counts the number of listings removed based on these criteria.\n",
        "    \n",
        "    Parameters:\n",
        "    - df: A pandas DataFrame with the listings data.\n",
        "    \n",
        "    Returns:\n",
        "    - cleaned_df: The cleaned DataFrame with the specified entries removed.\n",
        "    - count_removed: The number of listings removed based on the criteria.\n",
        "    \"\"\"\n",
        "    \n",
        "    # Convert price from string to float\n",
        "    df['price'] = df['price'].replace('[\\$,]', '', regex=True).astype(float)\n",
        "    \n",
        "    # Find entries to remove based on conditions\n",
        "    to_remove = df[(df['price'] == 0) | (df['price'].isna()) | (df['accommodates'] == 0) | (df['accommodates'].isna())]\n",
        "    \n",
        "    # Count the number of listings to remove\n",
        "    count_removed = len(to_remove)\n",
        "\n",
        "    print(f\"Number of listings removed: {count_removed}\")\n",
        "    \n",
        "    # Remove the entries from the DataFrame\n",
        "    cleaned_df = df.drop(to_remove.index)\n",
        "    \n",
        "    return cleaned_df\n"
      ]
    },
    {
      "cell_type": "code",
      "execution_count": 13,
      "metadata": {},
      "outputs": [
        {
          "name": "stdout",
          "output_type": "stream",
          "text": [
            "Number of listings removed: 1\n"
          ]
        }
      ],
      "source": [
        "# Test the clean_listings function\n",
        "cleaned_listings = clean_listings(listings_detailed)"
      ]
    },
    {
      "cell_type": "code",
      "execution_count": 14,
      "metadata": {},
      "outputs": [
        {
          "data": {
            "text/html": [
              "<div>\n",
              "<style scoped>\n",
              "    .dataframe tbody tr th:only-of-type {\n",
              "        vertical-align: middle;\n",
              "    }\n",
              "\n",
              "    .dataframe tbody tr th {\n",
              "        vertical-align: top;\n",
              "    }\n",
              "\n",
              "    .dataframe thead th {\n",
              "        text-align: right;\n",
              "    }\n",
              "</style>\n",
              "<table border=\"1\" class=\"dataframe\">\n",
              "  <thead>\n",
              "    <tr style=\"text-align: right;\">\n",
              "      <th></th>\n",
              "      <th>id</th>\n",
              "      <th>host_id</th>\n",
              "      <th>host_name</th>\n",
              "      <th>host_since</th>\n",
              "      <th>host_location</th>\n",
              "      <th>host_response_time</th>\n",
              "      <th>host_response_rate</th>\n",
              "      <th>host_acceptance_rate</th>\n",
              "      <th>host_is_superhost</th>\n",
              "      <th>host_listings_count</th>\n",
              "      <th>...</th>\n",
              "      <th>accommodates</th>\n",
              "      <th>bathrooms</th>\n",
              "      <th>bathrooms_text</th>\n",
              "      <th>bedrooms</th>\n",
              "      <th>beds</th>\n",
              "      <th>amenities</th>\n",
              "      <th>price</th>\n",
              "      <th>number_of_reviews</th>\n",
              "      <th>review_scores_value</th>\n",
              "      <th>calculated_host_listings_count</th>\n",
              "    </tr>\n",
              "  </thead>\n",
              "  <tbody>\n",
              "    <tr>\n",
              "      <th>0</th>\n",
              "      <td>6606</td>\n",
              "      <td>14942</td>\n",
              "      <td>Joyce</td>\n",
              "      <td>2009-04-26</td>\n",
              "      <td>Seattle, WA</td>\n",
              "      <td>within a few hours</td>\n",
              "      <td>100%</td>\n",
              "      <td>94%</td>\n",
              "      <td>f</td>\n",
              "      <td>5</td>\n",
              "      <td>...</td>\n",
              "      <td>1</td>\n",
              "      <td>NaN</td>\n",
              "      <td>1 bath</td>\n",
              "      <td>1.0</td>\n",
              "      <td>1.0</td>\n",
              "      <td>[\"Air conditioning\", \"Hair dryer\", \"Bed linens...</td>\n",
              "      <td>99.0</td>\n",
              "      <td>159</td>\n",
              "      <td>4.57</td>\n",
              "      <td>3</td>\n",
              "    </tr>\n",
              "    <tr>\n",
              "      <th>1</th>\n",
              "      <td>9419</td>\n",
              "      <td>30559</td>\n",
              "      <td>Angielena</td>\n",
              "      <td>2009-08-09</td>\n",
              "      <td>Seattle, WA</td>\n",
              "      <td>within an hour</td>\n",
              "      <td>100%</td>\n",
              "      <td>98%</td>\n",
              "      <td>t</td>\n",
              "      <td>9</td>\n",
              "      <td>...</td>\n",
              "      <td>2</td>\n",
              "      <td>NaN</td>\n",
              "      <td>3 shared baths</td>\n",
              "      <td>1.0</td>\n",
              "      <td>2.0</td>\n",
              "      <td>[\"Long term stays allowed\", \"Shared patio or b...</td>\n",
              "      <td>55.0</td>\n",
              "      <td>175</td>\n",
              "      <td>4.65</td>\n",
              "      <td>9</td>\n",
              "    </tr>\n",
              "    <tr>\n",
              "      <th>2</th>\n",
              "      <td>9531</td>\n",
              "      <td>31481</td>\n",
              "      <td>Cassie</td>\n",
              "      <td>2009-08-13</td>\n",
              "      <td>Seattle, WA</td>\n",
              "      <td>within a few hours</td>\n",
              "      <td>100%</td>\n",
              "      <td>77%</td>\n",
              "      <td>t</td>\n",
              "      <td>2</td>\n",
              "      <td>...</td>\n",
              "      <td>4</td>\n",
              "      <td>NaN</td>\n",
              "      <td>1 bath</td>\n",
              "      <td>2.0</td>\n",
              "      <td>3.0</td>\n",
              "      <td>[\"Long term stays allowed\", \"Conditioner\", \"Cl...</td>\n",
              "      <td>175.0</td>\n",
              "      <td>71</td>\n",
              "      <td>4.90</td>\n",
              "      <td>2</td>\n",
              "    </tr>\n",
              "    <tr>\n",
              "      <th>3</th>\n",
              "      <td>9534</td>\n",
              "      <td>31481</td>\n",
              "      <td>Cassie</td>\n",
              "      <td>2009-08-13</td>\n",
              "      <td>Seattle, WA</td>\n",
              "      <td>within a few hours</td>\n",
              "      <td>100%</td>\n",
              "      <td>77%</td>\n",
              "      <td>t</td>\n",
              "      <td>2</td>\n",
              "      <td>...</td>\n",
              "      <td>3</td>\n",
              "      <td>NaN</td>\n",
              "      <td>1 bath</td>\n",
              "      <td>2.0</td>\n",
              "      <td>2.0</td>\n",
              "      <td>[\"Long term stays allowed\", \"Conditioner\", \"Cl...</td>\n",
              "      <td>135.0</td>\n",
              "      <td>73</td>\n",
              "      <td>4.94</td>\n",
              "      <td>2</td>\n",
              "    </tr>\n",
              "    <tr>\n",
              "      <th>4</th>\n",
              "      <td>9596</td>\n",
              "      <td>14942</td>\n",
              "      <td>Joyce</td>\n",
              "      <td>2009-04-26</td>\n",
              "      <td>Seattle, WA</td>\n",
              "      <td>within a few hours</td>\n",
              "      <td>100%</td>\n",
              "      <td>94%</td>\n",
              "      <td>f</td>\n",
              "      <td>5</td>\n",
              "      <td>...</td>\n",
              "      <td>4</td>\n",
              "      <td>NaN</td>\n",
              "      <td>1 bath</td>\n",
              "      <td>1.0</td>\n",
              "      <td>4.0</td>\n",
              "      <td>[\"Stove\", \"Hair dryer\", \"Shampoo\", \"Coffee mak...</td>\n",
              "      <td>130.0</td>\n",
              "      <td>97</td>\n",
              "      <td>4.56</td>\n",
              "      <td>3</td>\n",
              "    </tr>\n",
              "  </tbody>\n",
              "</table>\n",
              "<p>5 rows × 29 columns</p>\n",
              "</div>"
            ],
            "text/plain": [
              "     id  host_id  host_name  host_since host_location  host_response_time  \\\n",
              "0  6606    14942      Joyce  2009-04-26   Seattle, WA  within a few hours   \n",
              "1  9419    30559  Angielena  2009-08-09   Seattle, WA      within an hour   \n",
              "2  9531    31481     Cassie  2009-08-13   Seattle, WA  within a few hours   \n",
              "3  9534    31481     Cassie  2009-08-13   Seattle, WA  within a few hours   \n",
              "4  9596    14942      Joyce  2009-04-26   Seattle, WA  within a few hours   \n",
              "\n",
              "  host_response_rate host_acceptance_rate host_is_superhost  \\\n",
              "0               100%                  94%                 f   \n",
              "1               100%                  98%                 t   \n",
              "2               100%                  77%                 t   \n",
              "3               100%                  77%                 t   \n",
              "4               100%                  94%                 f   \n",
              "\n",
              "   host_listings_count  ...  accommodates bathrooms  bathrooms_text bedrooms  \\\n",
              "0                    5  ...             1       NaN          1 bath      1.0   \n",
              "1                    9  ...             2       NaN  3 shared baths      1.0   \n",
              "2                    2  ...             4       NaN          1 bath      2.0   \n",
              "3                    2  ...             3       NaN          1 bath      2.0   \n",
              "4                    5  ...             4       NaN          1 bath      1.0   \n",
              "\n",
              "  beds                                          amenities  price  \\\n",
              "0  1.0  [\"Air conditioning\", \"Hair dryer\", \"Bed linens...   99.0   \n",
              "1  2.0  [\"Long term stays allowed\", \"Shared patio or b...   55.0   \n",
              "2  3.0  [\"Long term stays allowed\", \"Conditioner\", \"Cl...  175.0   \n",
              "3  2.0  [\"Long term stays allowed\", \"Conditioner\", \"Cl...  135.0   \n",
              "4  4.0  [\"Stove\", \"Hair dryer\", \"Shampoo\", \"Coffee mak...  130.0   \n",
              "\n",
              "   number_of_reviews review_scores_value  calculated_host_listings_count  \n",
              "0                159                4.57                               3  \n",
              "1                175                4.65                               9  \n",
              "2                 71                4.90                               2  \n",
              "3                 73                4.94                               2  \n",
              "4                 97                4.56                               3  \n",
              "\n",
              "[5 rows x 29 columns]"
            ]
          },
          "execution_count": 14,
          "metadata": {},
          "output_type": "execute_result"
        }
      ],
      "source": [
        "cleaned_listings.head()"
      ]
    },
    {
      "cell_type": "code",
      "execution_count": 15,
      "metadata": {},
      "outputs": [
        {
          "data": {
            "text/plain": [
              "(6375, 29)"
            ]
          },
          "execution_count": 15,
          "metadata": {},
          "output_type": "execute_result"
        }
      ],
      "source": [
        "cleaned_listings.shape"
      ]
    },
    {
      "cell_type": "markdown",
      "metadata": {},
      "source": [
        "# Count 'amenities'"
      ]
    },
    {
      "cell_type": "code",
      "execution_count": 16,
      "metadata": {},
      "outputs": [],
      "source": [
        "import ast\n",
        "def count_amenities(amenities_str):\n",
        "    try:\n",
        "        # Convert the string representation of the list back into a list\n",
        "        amenities_list = ast.literal_eval(amenities_str)\n",
        "        # Return the count of items in the list\n",
        "        return len(amenities_list)\n",
        "    except (ValueError, SyntaxError):\n",
        "        # In case of any error during conversion, return 0 (or you may choose to return NaN)\n",
        "        return 0\n",
        "\n",
        "# Apply the function to each row in the 'amenities' column and create a new column 'amenities_count'\n",
        "cleaned_listings['amenities_count'] = cleaned_listings['amenities'].apply(count_amenities)"
      ]
    },
    {
      "cell_type": "code",
      "execution_count": 17,
      "metadata": {},
      "outputs": [
        {
          "data": {
            "text/plain": [
              "0       27\n",
              "1       31\n",
              "2       63\n",
              "3       57\n",
              "4       28\n",
              "        ..\n",
              "6371    54\n",
              "6372    41\n",
              "6373    44\n",
              "6374    11\n",
              "6375    51\n",
              "Name: amenities_count, Length: 6375, dtype: int64"
            ]
          },
          "execution_count": 17,
          "metadata": {},
          "output_type": "execute_result"
        }
      ],
      "source": [
        "cleaned_listings['amenities_count']"
      ]
    },
    {
      "cell_type": "markdown",
      "metadata": {},
      "source": [
        "# Add 'city' column"
      ]
    },
    {
      "cell_type": "code",
      "execution_count": 18,
      "metadata": {},
      "outputs": [],
      "source": [
        "# Add in a city column to each dataframe so that we can use this as part of the primary key/use it to conduct groupby for\n",
        "# future EDA or additional analysis as final table will contain all of our listings data\n",
        "cleaned_listings['city'] = 'Seattle'"
      ]
    },
    {
      "cell_type": "markdown",
      "metadata": {},
      "source": [
        "# Impute 'bathroom_text'"
      ]
    },
    {
      "cell_type": "markdown",
      "metadata": {},
      "source": [
        "## Pre-processing"
      ]
    },
    {
      "cell_type": "markdown",
      "metadata": {},
      "source": [
        "- 0 shared bath -> 0\n",
        "- half bath -> 0.5\n",
        "- private half bath -> 0.5\n",
        "- shared half bath -> 0.5"
      ]
    },
    {
      "cell_type": "code",
      "execution_count": 19,
      "metadata": {},
      "outputs": [
        {
          "data": {
            "text/plain": [
              "array(['1 bath', '3 shared baths', '2 baths', '1.5 baths', '2.5 baths',\n",
              "       '4 shared baths', '1 shared bath', '3 baths', '1 private bath',\n",
              "       '1.5 shared baths', '2 shared baths', '3.5 baths', '4 baths',\n",
              "       'Half-bath', '2.5 shared baths', '3.5 shared baths',\n",
              "       '0 shared baths', '4.5 baths', '16 shared baths', '0 baths',\n",
              "       '6 baths', 'Private half-bath', '6.5 baths', '7 baths',\n",
              "       'Shared half-bath'], dtype=object)"
            ]
          },
          "execution_count": 19,
          "metadata": {},
          "output_type": "execute_result"
        }
      ],
      "source": [
        "cleaned_listings['bathrooms_text'].unique()"
      ]
    },
    {
      "cell_type": "code",
      "execution_count": 20,
      "metadata": {},
      "outputs": [
        {
          "name": "stdout",
          "output_type": "stream",
          "text": [
            "object\n"
          ]
        }
      ],
      "source": [
        "cleaned_listings['bathrooms_text'] = cleaned_listings['bathrooms_text'].astype(str)\n",
        "# Convert 'bathrooms_text' column to strings, treating NaN as empty strings\n",
        "cleaned_listings['bathrooms_text'] = listings_detailed['bathrooms_text'].fillna('').astype(str)\n",
        "cleaned_listings\n",
        "# Verifying the conversion\n",
        "print(cleaned_listings['bathrooms_text'].dtype)"
      ]
    },
    {
      "cell_type": "markdown",
      "metadata": {},
      "source": [
        "#### Changing non-numeric bathrooms to numeric values"
      ]
    },
    {
      "cell_type": "code",
      "execution_count": 21,
      "metadata": {},
      "outputs": [
        {
          "name": "stdout",
          "output_type": "stream",
          "text": [
            "['1 bath' '3 shared baths' '2 baths' '1.5 baths' '2.5 baths'\n",
            " '4 shared baths' '1 shared bath' '3 baths' '1 private bath'\n",
            " '1.5 shared baths' '2 shared baths' '3.5 baths' '4 baths' '0.5 baths'\n",
            " '2.5 shared baths' '3.5 shared baths' '0 shared baths' '4.5 baths'\n",
            " '16 shared baths' '0 baths' '6 baths' '6.5 baths' '7 baths']\n"
          ]
        }
      ],
      "source": [
        "# Replace specific strings in 'bathrooms_text' column\n",
        "cleaned_listings['bathrooms_text'] = cleaned_listings['bathrooms_text'].replace({\n",
        "    'Half-bath': '0.5 baths',\n",
        "    'Private half-bath': '0.5 baths',\n",
        "    'Shared half-bath': '0.5 baths'\n",
        "})\n",
        "\n",
        "# Check the unique values to verify the changes\n",
        "unique_bathrooms = cleaned_listings['bathrooms_text'].unique()\n",
        "print(unique_bathrooms)\n"
      ]
    },
    {
      "cell_type": "code",
      "execution_count": 22,
      "metadata": {},
      "outputs": [
        {
          "data": {
            "text/plain": [
              "12"
            ]
          },
          "execution_count": 22,
          "metadata": {},
          "output_type": "execute_result"
        }
      ],
      "source": [
        "count_half_baths = (cleaned_listings['bathrooms_text'] == '0.5 baths').sum()\n",
        "count_half_baths"
      ]
    },
    {
      "cell_type": "markdown",
      "metadata": {},
      "source": [
        "### Check for the Nan for bathrooms_text"
      ]
    },
    {
      "cell_type": "code",
      "execution_count": 23,
      "metadata": {},
      "outputs": [
        {
          "data": {
            "text/html": [
              "<div>\n",
              "<style scoped>\n",
              "    .dataframe tbody tr th:only-of-type {\n",
              "        vertical-align: middle;\n",
              "    }\n",
              "\n",
              "    .dataframe tbody tr th {\n",
              "        vertical-align: top;\n",
              "    }\n",
              "\n",
              "    .dataframe thead th {\n",
              "        text-align: right;\n",
              "    }\n",
              "</style>\n",
              "<table border=\"1\" class=\"dataframe\">\n",
              "  <thead>\n",
              "    <tr style=\"text-align: right;\">\n",
              "      <th></th>\n",
              "      <th>id</th>\n",
              "      <th>host_id</th>\n",
              "      <th>host_name</th>\n",
              "      <th>host_since</th>\n",
              "      <th>host_location</th>\n",
              "      <th>host_response_time</th>\n",
              "      <th>host_response_rate</th>\n",
              "      <th>host_acceptance_rate</th>\n",
              "      <th>host_is_superhost</th>\n",
              "      <th>host_listings_count</th>\n",
              "      <th>...</th>\n",
              "      <th>bathrooms_text</th>\n",
              "      <th>bedrooms</th>\n",
              "      <th>beds</th>\n",
              "      <th>amenities</th>\n",
              "      <th>price</th>\n",
              "      <th>number_of_reviews</th>\n",
              "      <th>review_scores_value</th>\n",
              "      <th>calculated_host_listings_count</th>\n",
              "      <th>amenities_count</th>\n",
              "      <th>city</th>\n",
              "    </tr>\n",
              "  </thead>\n",
              "  <tbody>\n",
              "  </tbody>\n",
              "</table>\n",
              "<p>0 rows × 31 columns</p>\n",
              "</div>"
            ],
            "text/plain": [
              "Empty DataFrame\n",
              "Columns: [id, host_id, host_name, host_since, host_location, host_response_time, host_response_rate, host_acceptance_rate, host_is_superhost, host_listings_count, host_total_listings_count, host_verifications, host_has_profile_pic, host_identity_verified, neighbourhood, neighbourhood_cleansed, latitude, longitude, room_type, accommodates, bathrooms, bathrooms_text, bedrooms, beds, amenities, price, number_of_reviews, review_scores_value, calculated_host_listings_count, amenities_count, city]\n",
              "Index: []\n",
              "\n",
              "[0 rows x 31 columns]"
            ]
          },
          "execution_count": 23,
          "metadata": {},
          "output_type": "execute_result"
        }
      ],
      "source": [
        "cleaned_listings[cleaned_listings['bathrooms_text']=='']"
      ]
    },
    {
      "cell_type": "markdown",
      "metadata": {},
      "source": [
        "### function to fill in NULL values in bathrooms_text\n",
        "\n",
        "1. Use the 'bedrooms'\n",
        "2. if the 'bedrooms' column is also NA, fill in NAs with 1/'beds' column"
      ]
    },
    {
      "cell_type": "code",
      "execution_count": 24,
      "metadata": {},
      "outputs": [],
      "source": [
        "def fill_missing_bathrooms(df):\n",
        "    \"\"\"\n",
        "    Fills missing or empty 'bathrooms_text' values in the DataFrame.\n",
        "    - Uses the 'bedrooms' value if available.\n",
        "    - If 'bedrooms' is also missing, uses half the 'beds' value.\n",
        "    \"\"\"\n",
        "    # Loop through each row in DataFrame\n",
        "    for index, row in df.iterrows():\n",
        "        # Check if 'bathrooms_text' is NaN or an empty string\n",
        "        if pd.isnull(row['bathrooms_text']) or row['bathrooms_text'] == '':\n",
        "            # Use 'bedrooms' if not NaN and not 0\n",
        "            if not pd.isnull(row['bedrooms']) and row['bedrooms'] != 0:\n",
        "                df.at[index, 'bathrooms_text'] = str(row['bedrooms']) + ' bath'\n",
        "            # If 'bedrooms' is NaN or 0, use half the 'beds' value\n",
        "            elif not pd.isnull(row['beds']) and row['beds'] != 0:\n",
        "                # Calculate half the beds and format it to match the bathroom text style\n",
        "                half_beds_as_baths = row['beds'] / 2\n",
        "                df.at[index, 'bathrooms_text'] = str(half_beds_as_baths) + ' bath'\n",
        "            # If both 'bedrooms' and 'beds' are not available, set a default value\n",
        "            else:\n",
        "                df.at[index, 'bathrooms_text'] = '1 bath' # Default value or consider another logic\n",
        "                \n",
        "    return df\n",
        "\n"
      ]
    },
    {
      "cell_type": "code",
      "execution_count": 25,
      "metadata": {},
      "outputs": [],
      "source": [
        "filled_cleaned_listings = fill_missing_bathrooms(cleaned_listings)\n"
      ]
    },
    {
      "cell_type": "code",
      "execution_count": 26,
      "metadata": {},
      "outputs": [
        {
          "data": {
            "text/html": [
              "<div>\n",
              "<style scoped>\n",
              "    .dataframe tbody tr th:only-of-type {\n",
              "        vertical-align: middle;\n",
              "    }\n",
              "\n",
              "    .dataframe tbody tr th {\n",
              "        vertical-align: top;\n",
              "    }\n",
              "\n",
              "    .dataframe thead th {\n",
              "        text-align: right;\n",
              "    }\n",
              "</style>\n",
              "<table border=\"1\" class=\"dataframe\">\n",
              "  <thead>\n",
              "    <tr style=\"text-align: right;\">\n",
              "      <th></th>\n",
              "      <th>id</th>\n",
              "      <th>bedrooms</th>\n",
              "      <th>beds</th>\n",
              "      <th>bathrooms_text</th>\n",
              "    </tr>\n",
              "  </thead>\n",
              "  <tbody>\n",
              "    <tr>\n",
              "      <th>0</th>\n",
              "      <td>6606</td>\n",
              "      <td>1.0</td>\n",
              "      <td>1.0</td>\n",
              "      <td>1 bath</td>\n",
              "    </tr>\n",
              "    <tr>\n",
              "      <th>1</th>\n",
              "      <td>9419</td>\n",
              "      <td>1.0</td>\n",
              "      <td>2.0</td>\n",
              "      <td>3 shared baths</td>\n",
              "    </tr>\n",
              "    <tr>\n",
              "      <th>2</th>\n",
              "      <td>9531</td>\n",
              "      <td>2.0</td>\n",
              "      <td>3.0</td>\n",
              "      <td>1 bath</td>\n",
              "    </tr>\n",
              "    <tr>\n",
              "      <th>3</th>\n",
              "      <td>9534</td>\n",
              "      <td>2.0</td>\n",
              "      <td>2.0</td>\n",
              "      <td>1 bath</td>\n",
              "    </tr>\n",
              "    <tr>\n",
              "      <th>4</th>\n",
              "      <td>9596</td>\n",
              "      <td>1.0</td>\n",
              "      <td>4.0</td>\n",
              "      <td>1 bath</td>\n",
              "    </tr>\n",
              "    <tr>\n",
              "      <th>...</th>\n",
              "      <td>...</td>\n",
              "      <td>...</td>\n",
              "      <td>...</td>\n",
              "      <td>...</td>\n",
              "    </tr>\n",
              "    <tr>\n",
              "      <th>6371</th>\n",
              "      <td>1732441</td>\n",
              "      <td>1.0</td>\n",
              "      <td>1.0</td>\n",
              "      <td>1 bath</td>\n",
              "    </tr>\n",
              "    <tr>\n",
              "      <th>6372</th>\n",
              "      <td>1737244</td>\n",
              "      <td>1.0</td>\n",
              "      <td>1.0</td>\n",
              "      <td>1 shared bath</td>\n",
              "    </tr>\n",
              "    <tr>\n",
              "      <th>6373</th>\n",
              "      <td>1764100</td>\n",
              "      <td>1.0</td>\n",
              "      <td>2.0</td>\n",
              "      <td>1 bath</td>\n",
              "    </tr>\n",
              "    <tr>\n",
              "      <th>6374</th>\n",
              "      <td>1773803</td>\n",
              "      <td>1.0</td>\n",
              "      <td>1.0</td>\n",
              "      <td>1 bath</td>\n",
              "    </tr>\n",
              "    <tr>\n",
              "      <th>6375</th>\n",
              "      <td>1775016</td>\n",
              "      <td>1.0</td>\n",
              "      <td>1.0</td>\n",
              "      <td>1.5 baths</td>\n",
              "    </tr>\n",
              "  </tbody>\n",
              "</table>\n",
              "<p>6375 rows × 4 columns</p>\n",
              "</div>"
            ],
            "text/plain": [
              "           id  bedrooms  beds  bathrooms_text\n",
              "0        6606       1.0   1.0          1 bath\n",
              "1        9419       1.0   2.0  3 shared baths\n",
              "2        9531       2.0   3.0          1 bath\n",
              "3        9534       2.0   2.0          1 bath\n",
              "4        9596       1.0   4.0          1 bath\n",
              "...       ...       ...   ...             ...\n",
              "6371  1732441       1.0   1.0          1 bath\n",
              "6372  1737244       1.0   1.0   1 shared bath\n",
              "6373  1764100       1.0   2.0          1 bath\n",
              "6374  1773803       1.0   1.0          1 bath\n",
              "6375  1775016       1.0   1.0       1.5 baths\n",
              "\n",
              "[6375 rows x 4 columns]"
            ]
          },
          "execution_count": 26,
          "metadata": {},
          "output_type": "execute_result"
        }
      ],
      "source": [
        "filled_cleaned_listings[['id', 'bedrooms', 'beds', 'bathrooms_text']]"
      ]
    },
    {
      "cell_type": "code",
      "execution_count": 27,
      "metadata": {},
      "outputs": [
        {
          "data": {
            "text/html": [
              "<div>\n",
              "<style scoped>\n",
              "    .dataframe tbody tr th:only-of-type {\n",
              "        vertical-align: middle;\n",
              "    }\n",
              "\n",
              "    .dataframe tbody tr th {\n",
              "        vertical-align: top;\n",
              "    }\n",
              "\n",
              "    .dataframe thead th {\n",
              "        text-align: right;\n",
              "    }\n",
              "</style>\n",
              "<table border=\"1\" class=\"dataframe\">\n",
              "  <thead>\n",
              "    <tr style=\"text-align: right;\">\n",
              "      <th></th>\n",
              "      <th>id</th>\n",
              "      <th>host_id</th>\n",
              "      <th>host_name</th>\n",
              "      <th>host_since</th>\n",
              "      <th>host_location</th>\n",
              "      <th>host_response_time</th>\n",
              "      <th>host_response_rate</th>\n",
              "      <th>host_acceptance_rate</th>\n",
              "      <th>host_is_superhost</th>\n",
              "      <th>host_listings_count</th>\n",
              "      <th>...</th>\n",
              "      <th>bathrooms_text</th>\n",
              "      <th>bedrooms</th>\n",
              "      <th>beds</th>\n",
              "      <th>amenities</th>\n",
              "      <th>price</th>\n",
              "      <th>number_of_reviews</th>\n",
              "      <th>review_scores_value</th>\n",
              "      <th>calculated_host_listings_count</th>\n",
              "      <th>amenities_count</th>\n",
              "      <th>city</th>\n",
              "    </tr>\n",
              "  </thead>\n",
              "  <tbody>\n",
              "  </tbody>\n",
              "</table>\n",
              "<p>0 rows × 31 columns</p>\n",
              "</div>"
            ],
            "text/plain": [
              "Empty DataFrame\n",
              "Columns: [id, host_id, host_name, host_since, host_location, host_response_time, host_response_rate, host_acceptance_rate, host_is_superhost, host_listings_count, host_total_listings_count, host_verifications, host_has_profile_pic, host_identity_verified, neighbourhood, neighbourhood_cleansed, latitude, longitude, room_type, accommodates, bathrooms, bathrooms_text, bedrooms, beds, amenities, price, number_of_reviews, review_scores_value, calculated_host_listings_count, amenities_count, city]\n",
              "Index: []\n",
              "\n",
              "[0 rows x 31 columns]"
            ]
          },
          "execution_count": 27,
          "metadata": {},
          "output_type": "execute_result"
        }
      ],
      "source": [
        "# check for the previous NA rows in bathrooms text\n",
        "filled_cleaned_listings[\n",
        "    (filled_cleaned_listings['id'] == 49229073)]"
      ]
    },
    {
      "cell_type": "markdown",
      "metadata": {},
      "source": [
        "Note: Looking back to the oringinal data original data, the entries with id '49229073' was deleted in the begging as it had 0 accomodates "
      ]
    },
    {
      "cell_type": "markdown",
      "metadata": {},
      "source": [
        "### Function to make numerical values for # of bath"
      ]
    },
    {
      "cell_type": "code",
      "execution_count": 28,
      "metadata": {},
      "outputs": [],
      "source": [
        "def add_numerical_bathrooms_column(df, column_name):\n",
        "    \"\"\"\n",
        "    Adds a new column 'num_bath' to the DataFrame based on the numerical values extracted from the specified column.\n",
        "\n",
        "    Parameters:\n",
        "    - df: pd.DataFrame - The DataFrame to process.\n",
        "    - column_name: str - The name of the column containing bathroom text descriptions.\n",
        "\n",
        "    Returns:\n",
        "    - pd.DataFrame - The original DataFrame with an additional 'num_bath' column.\n",
        "    \"\"\"\n",
        "    # Extract numerical part from the specified column and convert to float\n",
        "    df['num_bath'] = df[column_name].str.extract('([0-9]+\\.?[0-9]*)').astype(float)\n",
        "    return df"
      ]
    },
    {
      "cell_type": "code",
      "execution_count": 29,
      "metadata": {},
      "outputs": [
        {
          "name": "stdout",
          "output_type": "stream",
          "text": [
            "      bathrooms_text  num_bath\n",
            "0             1 bath       1.0\n",
            "1     3 shared baths       3.0\n",
            "2             1 bath       1.0\n",
            "3             1 bath       1.0\n",
            "4             1 bath       1.0\n",
            "...              ...       ...\n",
            "6371          1 bath       1.0\n",
            "6372   1 shared bath       1.0\n",
            "6373          1 bath       1.0\n",
            "6374          1 bath       1.0\n",
            "6375       1.5 baths       1.5\n",
            "\n",
            "[6375 rows x 2 columns]\n"
          ]
        }
      ],
      "source": [
        "updated_df = add_numerical_bathrooms_column(filled_cleaned_listings, 'bathrooms_text')\n",
        "print(updated_df[['bathrooms_text', 'num_bath']])"
      ]
    },
    {
      "cell_type": "code",
      "execution_count": 30,
      "metadata": {},
      "outputs": [
        {
          "data": {
            "text/html": [
              "<div>\n",
              "<style scoped>\n",
              "    .dataframe tbody tr th:only-of-type {\n",
              "        vertical-align: middle;\n",
              "    }\n",
              "\n",
              "    .dataframe tbody tr th {\n",
              "        vertical-align: top;\n",
              "    }\n",
              "\n",
              "    .dataframe thead th {\n",
              "        text-align: right;\n",
              "    }\n",
              "</style>\n",
              "<table border=\"1\" class=\"dataframe\">\n",
              "  <thead>\n",
              "    <tr style=\"text-align: right;\">\n",
              "      <th></th>\n",
              "      <th>id</th>\n",
              "      <th>host_id</th>\n",
              "      <th>host_name</th>\n",
              "      <th>host_since</th>\n",
              "      <th>host_location</th>\n",
              "      <th>host_response_time</th>\n",
              "      <th>host_response_rate</th>\n",
              "      <th>host_acceptance_rate</th>\n",
              "      <th>host_is_superhost</th>\n",
              "      <th>host_listings_count</th>\n",
              "      <th>...</th>\n",
              "      <th>bedrooms</th>\n",
              "      <th>beds</th>\n",
              "      <th>amenities</th>\n",
              "      <th>price</th>\n",
              "      <th>number_of_reviews</th>\n",
              "      <th>review_scores_value</th>\n",
              "      <th>calculated_host_listings_count</th>\n",
              "      <th>amenities_count</th>\n",
              "      <th>city</th>\n",
              "      <th>num_bath</th>\n",
              "    </tr>\n",
              "  </thead>\n",
              "  <tbody>\n",
              "    <tr>\n",
              "      <th>0</th>\n",
              "      <td>6606</td>\n",
              "      <td>14942</td>\n",
              "      <td>Joyce</td>\n",
              "      <td>2009-04-26</td>\n",
              "      <td>Seattle, WA</td>\n",
              "      <td>within a few hours</td>\n",
              "      <td>100%</td>\n",
              "      <td>94%</td>\n",
              "      <td>f</td>\n",
              "      <td>5</td>\n",
              "      <td>...</td>\n",
              "      <td>1.0</td>\n",
              "      <td>1.0</td>\n",
              "      <td>[\"Air conditioning\", \"Hair dryer\", \"Bed linens...</td>\n",
              "      <td>99.0</td>\n",
              "      <td>159</td>\n",
              "      <td>4.57</td>\n",
              "      <td>3</td>\n",
              "      <td>27</td>\n",
              "      <td>Seattle</td>\n",
              "      <td>1.0</td>\n",
              "    </tr>\n",
              "    <tr>\n",
              "      <th>1</th>\n",
              "      <td>9419</td>\n",
              "      <td>30559</td>\n",
              "      <td>Angielena</td>\n",
              "      <td>2009-08-09</td>\n",
              "      <td>Seattle, WA</td>\n",
              "      <td>within an hour</td>\n",
              "      <td>100%</td>\n",
              "      <td>98%</td>\n",
              "      <td>t</td>\n",
              "      <td>9</td>\n",
              "      <td>...</td>\n",
              "      <td>1.0</td>\n",
              "      <td>2.0</td>\n",
              "      <td>[\"Long term stays allowed\", \"Shared patio or b...</td>\n",
              "      <td>55.0</td>\n",
              "      <td>175</td>\n",
              "      <td>4.65</td>\n",
              "      <td>9</td>\n",
              "      <td>31</td>\n",
              "      <td>Seattle</td>\n",
              "      <td>3.0</td>\n",
              "    </tr>\n",
              "    <tr>\n",
              "      <th>2</th>\n",
              "      <td>9531</td>\n",
              "      <td>31481</td>\n",
              "      <td>Cassie</td>\n",
              "      <td>2009-08-13</td>\n",
              "      <td>Seattle, WA</td>\n",
              "      <td>within a few hours</td>\n",
              "      <td>100%</td>\n",
              "      <td>77%</td>\n",
              "      <td>t</td>\n",
              "      <td>2</td>\n",
              "      <td>...</td>\n",
              "      <td>2.0</td>\n",
              "      <td>3.0</td>\n",
              "      <td>[\"Long term stays allowed\", \"Conditioner\", \"Cl...</td>\n",
              "      <td>175.0</td>\n",
              "      <td>71</td>\n",
              "      <td>4.90</td>\n",
              "      <td>2</td>\n",
              "      <td>63</td>\n",
              "      <td>Seattle</td>\n",
              "      <td>1.0</td>\n",
              "    </tr>\n",
              "    <tr>\n",
              "      <th>3</th>\n",
              "      <td>9534</td>\n",
              "      <td>31481</td>\n",
              "      <td>Cassie</td>\n",
              "      <td>2009-08-13</td>\n",
              "      <td>Seattle, WA</td>\n",
              "      <td>within a few hours</td>\n",
              "      <td>100%</td>\n",
              "      <td>77%</td>\n",
              "      <td>t</td>\n",
              "      <td>2</td>\n",
              "      <td>...</td>\n",
              "      <td>2.0</td>\n",
              "      <td>2.0</td>\n",
              "      <td>[\"Long term stays allowed\", \"Conditioner\", \"Cl...</td>\n",
              "      <td>135.0</td>\n",
              "      <td>73</td>\n",
              "      <td>4.94</td>\n",
              "      <td>2</td>\n",
              "      <td>57</td>\n",
              "      <td>Seattle</td>\n",
              "      <td>1.0</td>\n",
              "    </tr>\n",
              "    <tr>\n",
              "      <th>4</th>\n",
              "      <td>9596</td>\n",
              "      <td>14942</td>\n",
              "      <td>Joyce</td>\n",
              "      <td>2009-04-26</td>\n",
              "      <td>Seattle, WA</td>\n",
              "      <td>within a few hours</td>\n",
              "      <td>100%</td>\n",
              "      <td>94%</td>\n",
              "      <td>f</td>\n",
              "      <td>5</td>\n",
              "      <td>...</td>\n",
              "      <td>1.0</td>\n",
              "      <td>4.0</td>\n",
              "      <td>[\"Stove\", \"Hair dryer\", \"Shampoo\", \"Coffee mak...</td>\n",
              "      <td>130.0</td>\n",
              "      <td>97</td>\n",
              "      <td>4.56</td>\n",
              "      <td>3</td>\n",
              "      <td>28</td>\n",
              "      <td>Seattle</td>\n",
              "      <td>1.0</td>\n",
              "    </tr>\n",
              "    <tr>\n",
              "      <th>...</th>\n",
              "      <td>...</td>\n",
              "      <td>...</td>\n",
              "      <td>...</td>\n",
              "      <td>...</td>\n",
              "      <td>...</td>\n",
              "      <td>...</td>\n",
              "      <td>...</td>\n",
              "      <td>...</td>\n",
              "      <td>...</td>\n",
              "      <td>...</td>\n",
              "      <td>...</td>\n",
              "      <td>...</td>\n",
              "      <td>...</td>\n",
              "      <td>...</td>\n",
              "      <td>...</td>\n",
              "      <td>...</td>\n",
              "      <td>...</td>\n",
              "      <td>...</td>\n",
              "      <td>...</td>\n",
              "      <td>...</td>\n",
              "      <td>...</td>\n",
              "    </tr>\n",
              "    <tr>\n",
              "      <th>6371</th>\n",
              "      <td>1732441</td>\n",
              "      <td>1214247</td>\n",
              "      <td>Marcell</td>\n",
              "      <td>2011-09-27</td>\n",
              "      <td>Seattle, WA</td>\n",
              "      <td>within a few hours</td>\n",
              "      <td>100%</td>\n",
              "      <td>77%</td>\n",
              "      <td>f</td>\n",
              "      <td>1</td>\n",
              "      <td>...</td>\n",
              "      <td>1.0</td>\n",
              "      <td>1.0</td>\n",
              "      <td>[\"Long term stays allowed\", \"Washer\", \"Stove\",...</td>\n",
              "      <td>85.0</td>\n",
              "      <td>174</td>\n",
              "      <td>4.92</td>\n",
              "      <td>1</td>\n",
              "      <td>54</td>\n",
              "      <td>Seattle</td>\n",
              "      <td>1.0</td>\n",
              "    </tr>\n",
              "    <tr>\n",
              "      <th>6372</th>\n",
              "      <td>1737244</td>\n",
              "      <td>9148911</td>\n",
              "      <td>Constance</td>\n",
              "      <td>2013-09-30</td>\n",
              "      <td>Seattle, WA</td>\n",
              "      <td>NaN</td>\n",
              "      <td>NaN</td>\n",
              "      <td>50%</td>\n",
              "      <td>f</td>\n",
              "      <td>1</td>\n",
              "      <td>...</td>\n",
              "      <td>1.0</td>\n",
              "      <td>1.0</td>\n",
              "      <td>[\"Children\\u2019s dinnerware\", \"Washer\", \"Drye...</td>\n",
              "      <td>71.0</td>\n",
              "      <td>40</td>\n",
              "      <td>4.72</td>\n",
              "      <td>1</td>\n",
              "      <td>41</td>\n",
              "      <td>Seattle</td>\n",
              "      <td>1.0</td>\n",
              "    </tr>\n",
              "    <tr>\n",
              "      <th>6373</th>\n",
              "      <td>1764100</td>\n",
              "      <td>3074414</td>\n",
              "      <td>Melissa</td>\n",
              "      <td>2012-07-27</td>\n",
              "      <td>Seattle, WA</td>\n",
              "      <td>within an hour</td>\n",
              "      <td>98%</td>\n",
              "      <td>94%</td>\n",
              "      <td>f</td>\n",
              "      <td>118</td>\n",
              "      <td>...</td>\n",
              "      <td>1.0</td>\n",
              "      <td>2.0</td>\n",
              "      <td>[\"Long term stays allowed\", \"Cleaning products...</td>\n",
              "      <td>115.0</td>\n",
              "      <td>52</td>\n",
              "      <td>4.27</td>\n",
              "      <td>117</td>\n",
              "      <td>44</td>\n",
              "      <td>Seattle</td>\n",
              "      <td>1.0</td>\n",
              "    </tr>\n",
              "    <tr>\n",
              "      <th>6374</th>\n",
              "      <td>1773803</td>\n",
              "      <td>8026420</td>\n",
              "      <td>Sheldon</td>\n",
              "      <td>2013-08-08</td>\n",
              "      <td>Seattle, WA</td>\n",
              "      <td>within a day</td>\n",
              "      <td>100%</td>\n",
              "      <td>0%</td>\n",
              "      <td>f</td>\n",
              "      <td>2</td>\n",
              "      <td>...</td>\n",
              "      <td>1.0</td>\n",
              "      <td>1.0</td>\n",
              "      <td>[\"Washer\", \"Kitchen\", \"Dryer\", \"Smoke alarm\", ...</td>\n",
              "      <td>92.0</td>\n",
              "      <td>304</td>\n",
              "      <td>4.30</td>\n",
              "      <td>2</td>\n",
              "      <td>11</td>\n",
              "      <td>Seattle</td>\n",
              "      <td>1.0</td>\n",
              "    </tr>\n",
              "    <tr>\n",
              "      <th>6375</th>\n",
              "      <td>1775016</td>\n",
              "      <td>8315334</td>\n",
              "      <td>Robert</td>\n",
              "      <td>2013-08-22</td>\n",
              "      <td>Seattle, WA</td>\n",
              "      <td>within an hour</td>\n",
              "      <td>100%</td>\n",
              "      <td>99%</td>\n",
              "      <td>t</td>\n",
              "      <td>9</td>\n",
              "      <td>...</td>\n",
              "      <td>1.0</td>\n",
              "      <td>1.0</td>\n",
              "      <td>[\"Washer\", \"Air conditioning\", \"Cleaning produ...</td>\n",
              "      <td>79.0</td>\n",
              "      <td>411</td>\n",
              "      <td>4.76</td>\n",
              "      <td>3</td>\n",
              "      <td>51</td>\n",
              "      <td>Seattle</td>\n",
              "      <td>1.5</td>\n",
              "    </tr>\n",
              "  </tbody>\n",
              "</table>\n",
              "<p>6375 rows × 32 columns</p>\n",
              "</div>"
            ],
            "text/plain": [
              "           id  host_id  host_name  host_since host_location  \\\n",
              "0        6606    14942      Joyce  2009-04-26   Seattle, WA   \n",
              "1        9419    30559  Angielena  2009-08-09   Seattle, WA   \n",
              "2        9531    31481     Cassie  2009-08-13   Seattle, WA   \n",
              "3        9534    31481     Cassie  2009-08-13   Seattle, WA   \n",
              "4        9596    14942      Joyce  2009-04-26   Seattle, WA   \n",
              "...       ...      ...        ...         ...           ...   \n",
              "6371  1732441  1214247    Marcell  2011-09-27   Seattle, WA   \n",
              "6372  1737244  9148911  Constance  2013-09-30   Seattle, WA   \n",
              "6373  1764100  3074414    Melissa  2012-07-27   Seattle, WA   \n",
              "6374  1773803  8026420    Sheldon  2013-08-08   Seattle, WA   \n",
              "6375  1775016  8315334     Robert  2013-08-22   Seattle, WA   \n",
              "\n",
              "      host_response_time host_response_rate host_acceptance_rate  \\\n",
              "0     within a few hours               100%                  94%   \n",
              "1         within an hour               100%                  98%   \n",
              "2     within a few hours               100%                  77%   \n",
              "3     within a few hours               100%                  77%   \n",
              "4     within a few hours               100%                  94%   \n",
              "...                  ...                ...                  ...   \n",
              "6371  within a few hours               100%                  77%   \n",
              "6372                 NaN                NaN                  50%   \n",
              "6373      within an hour                98%                  94%   \n",
              "6374        within a day               100%                   0%   \n",
              "6375      within an hour               100%                  99%   \n",
              "\n",
              "     host_is_superhost  host_listings_count  ...  bedrooms beds  \\\n",
              "0                    f                    5  ...       1.0  1.0   \n",
              "1                    t                    9  ...       1.0  2.0   \n",
              "2                    t                    2  ...       2.0  3.0   \n",
              "3                    t                    2  ...       2.0  2.0   \n",
              "4                    f                    5  ...       1.0  4.0   \n",
              "...                ...                  ...  ...       ...  ...   \n",
              "6371                 f                    1  ...       1.0  1.0   \n",
              "6372                 f                    1  ...       1.0  1.0   \n",
              "6373                 f                  118  ...       1.0  2.0   \n",
              "6374                 f                    2  ...       1.0  1.0   \n",
              "6375                 t                    9  ...       1.0  1.0   \n",
              "\n",
              "                                              amenities  price  \\\n",
              "0     [\"Air conditioning\", \"Hair dryer\", \"Bed linens...   99.0   \n",
              "1     [\"Long term stays allowed\", \"Shared patio or b...   55.0   \n",
              "2     [\"Long term stays allowed\", \"Conditioner\", \"Cl...  175.0   \n",
              "3     [\"Long term stays allowed\", \"Conditioner\", \"Cl...  135.0   \n",
              "4     [\"Stove\", \"Hair dryer\", \"Shampoo\", \"Coffee mak...  130.0   \n",
              "...                                                 ...    ...   \n",
              "6371  [\"Long term stays allowed\", \"Washer\", \"Stove\",...   85.0   \n",
              "6372  [\"Children\\u2019s dinnerware\", \"Washer\", \"Drye...   71.0   \n",
              "6373  [\"Long term stays allowed\", \"Cleaning products...  115.0   \n",
              "6374  [\"Washer\", \"Kitchen\", \"Dryer\", \"Smoke alarm\", ...   92.0   \n",
              "6375  [\"Washer\", \"Air conditioning\", \"Cleaning produ...   79.0   \n",
              "\n",
              "     number_of_reviews review_scores_value  calculated_host_listings_count  \\\n",
              "0                  159                4.57                               3   \n",
              "1                  175                4.65                               9   \n",
              "2                   71                4.90                               2   \n",
              "3                   73                4.94                               2   \n",
              "4                   97                4.56                               3   \n",
              "...                ...                 ...                             ...   \n",
              "6371               174                4.92                               1   \n",
              "6372                40                4.72                               1   \n",
              "6373                52                4.27                             117   \n",
              "6374               304                4.30                               2   \n",
              "6375               411                4.76                               3   \n",
              "\n",
              "      amenities_count     city  num_bath  \n",
              "0                  27  Seattle       1.0  \n",
              "1                  31  Seattle       3.0  \n",
              "2                  63  Seattle       1.0  \n",
              "3                  57  Seattle       1.0  \n",
              "4                  28  Seattle       1.0  \n",
              "...               ...      ...       ...  \n",
              "6371               54  Seattle       1.0  \n",
              "6372               41  Seattle       1.0  \n",
              "6373               44  Seattle       1.0  \n",
              "6374               11  Seattle       1.0  \n",
              "6375               51  Seattle       1.5  \n",
              "\n",
              "[6375 rows x 32 columns]"
            ]
          },
          "execution_count": 30,
          "metadata": {},
          "output_type": "execute_result"
        }
      ],
      "source": [
        "updated_df"
      ]
    },
    {
      "cell_type": "code",
      "execution_count": 31,
      "metadata": {},
      "outputs": [
        {
          "data": {
            "text/plain": [
              "0"
            ]
          },
          "execution_count": 31,
          "metadata": {},
          "output_type": "execute_result"
        }
      ],
      "source": [
        "updated_df['num_bath'].isnull().sum()"
      ]
    },
    {
      "cell_type": "code",
      "execution_count": 32,
      "metadata": {},
      "outputs": [
        {
          "data": {
            "text/html": [
              "<div>\n",
              "<style scoped>\n",
              "    .dataframe tbody tr th:only-of-type {\n",
              "        vertical-align: middle;\n",
              "    }\n",
              "\n",
              "    .dataframe tbody tr th {\n",
              "        vertical-align: top;\n",
              "    }\n",
              "\n",
              "    .dataframe thead th {\n",
              "        text-align: right;\n",
              "    }\n",
              "</style>\n",
              "<table border=\"1\" class=\"dataframe\">\n",
              "  <thead>\n",
              "    <tr style=\"text-align: right;\">\n",
              "      <th></th>\n",
              "      <th>id</th>\n",
              "      <th>host_id</th>\n",
              "      <th>host_name</th>\n",
              "      <th>host_since</th>\n",
              "      <th>host_location</th>\n",
              "      <th>host_response_time</th>\n",
              "      <th>host_response_rate</th>\n",
              "      <th>host_acceptance_rate</th>\n",
              "      <th>host_is_superhost</th>\n",
              "      <th>host_listings_count</th>\n",
              "      <th>...</th>\n",
              "      <th>bedrooms</th>\n",
              "      <th>beds</th>\n",
              "      <th>amenities</th>\n",
              "      <th>price</th>\n",
              "      <th>number_of_reviews</th>\n",
              "      <th>review_scores_value</th>\n",
              "      <th>calculated_host_listings_count</th>\n",
              "      <th>amenities_count</th>\n",
              "      <th>city</th>\n",
              "      <th>num_bath</th>\n",
              "    </tr>\n",
              "  </thead>\n",
              "  <tbody>\n",
              "  </tbody>\n",
              "</table>\n",
              "<p>0 rows × 32 columns</p>\n",
              "</div>"
            ],
            "text/plain": [
              "Empty DataFrame\n",
              "Columns: [id, host_id, host_name, host_since, host_location, host_response_time, host_response_rate, host_acceptance_rate, host_is_superhost, host_listings_count, host_total_listings_count, host_verifications, host_has_profile_pic, host_identity_verified, neighbourhood, neighbourhood_cleansed, latitude, longitude, room_type, accommodates, bathrooms, bathrooms_text, bedrooms, beds, amenities, price, number_of_reviews, review_scores_value, calculated_host_listings_count, amenities_count, city, num_bath]\n",
              "Index: []\n",
              "\n",
              "[0 rows x 32 columns]"
            ]
          },
          "execution_count": 32,
          "metadata": {},
          "output_type": "execute_result"
        }
      ],
      "source": [
        "updated_df[updated_df['num_bath'].isnull()]"
      ]
    },
    {
      "cell_type": "code",
      "execution_count": 33,
      "metadata": {},
      "outputs": [
        {
          "data": {
            "text/plain": [
              "array([ 1. ,  3. ,  2. ,  1.5,  2.5,  4. ,  3.5,  0.5,  0. ,  4.5, 16. ,\n",
              "        6. ,  6.5,  7. ])"
            ]
          },
          "execution_count": 33,
          "metadata": {},
          "output_type": "execute_result"
        }
      ],
      "source": [
        "updated_df['num_bath'].unique()"
      ]
    },
    {
      "cell_type": "code",
      "execution_count": 34,
      "metadata": {},
      "outputs": [],
      "source": [
        "# delete bathrooms column\n",
        "updated_df.drop('bathrooms', axis=1, inplace=True)"
      ]
    },
    {
      "cell_type": "code",
      "execution_count": 35,
      "metadata": {},
      "outputs": [
        {
          "data": {
            "text/html": [
              "<div>\n",
              "<style scoped>\n",
              "    .dataframe tbody tr th:only-of-type {\n",
              "        vertical-align: middle;\n",
              "    }\n",
              "\n",
              "    .dataframe tbody tr th {\n",
              "        vertical-align: top;\n",
              "    }\n",
              "\n",
              "    .dataframe thead th {\n",
              "        text-align: right;\n",
              "    }\n",
              "</style>\n",
              "<table border=\"1\" class=\"dataframe\">\n",
              "  <thead>\n",
              "    <tr style=\"text-align: right;\">\n",
              "      <th></th>\n",
              "      <th>id</th>\n",
              "      <th>host_id</th>\n",
              "      <th>host_name</th>\n",
              "      <th>host_since</th>\n",
              "      <th>host_location</th>\n",
              "      <th>host_response_time</th>\n",
              "      <th>host_response_rate</th>\n",
              "      <th>host_acceptance_rate</th>\n",
              "      <th>host_is_superhost</th>\n",
              "      <th>host_listings_count</th>\n",
              "      <th>...</th>\n",
              "      <th>bedrooms</th>\n",
              "      <th>beds</th>\n",
              "      <th>amenities</th>\n",
              "      <th>price</th>\n",
              "      <th>number_of_reviews</th>\n",
              "      <th>review_scores_value</th>\n",
              "      <th>calculated_host_listings_count</th>\n",
              "      <th>amenities_count</th>\n",
              "      <th>city</th>\n",
              "      <th>num_bath</th>\n",
              "    </tr>\n",
              "  </thead>\n",
              "  <tbody>\n",
              "    <tr>\n",
              "      <th>0</th>\n",
              "      <td>6606</td>\n",
              "      <td>14942</td>\n",
              "      <td>Joyce</td>\n",
              "      <td>2009-04-26</td>\n",
              "      <td>Seattle, WA</td>\n",
              "      <td>within a few hours</td>\n",
              "      <td>100%</td>\n",
              "      <td>94%</td>\n",
              "      <td>f</td>\n",
              "      <td>5</td>\n",
              "      <td>...</td>\n",
              "      <td>1.0</td>\n",
              "      <td>1.0</td>\n",
              "      <td>[\"Air conditioning\", \"Hair dryer\", \"Bed linens...</td>\n",
              "      <td>99.0</td>\n",
              "      <td>159</td>\n",
              "      <td>4.57</td>\n",
              "      <td>3</td>\n",
              "      <td>27</td>\n",
              "      <td>Seattle</td>\n",
              "      <td>1.0</td>\n",
              "    </tr>\n",
              "    <tr>\n",
              "      <th>1</th>\n",
              "      <td>9419</td>\n",
              "      <td>30559</td>\n",
              "      <td>Angielena</td>\n",
              "      <td>2009-08-09</td>\n",
              "      <td>Seattle, WA</td>\n",
              "      <td>within an hour</td>\n",
              "      <td>100%</td>\n",
              "      <td>98%</td>\n",
              "      <td>t</td>\n",
              "      <td>9</td>\n",
              "      <td>...</td>\n",
              "      <td>1.0</td>\n",
              "      <td>2.0</td>\n",
              "      <td>[\"Long term stays allowed\", \"Shared patio or b...</td>\n",
              "      <td>55.0</td>\n",
              "      <td>175</td>\n",
              "      <td>4.65</td>\n",
              "      <td>9</td>\n",
              "      <td>31</td>\n",
              "      <td>Seattle</td>\n",
              "      <td>3.0</td>\n",
              "    </tr>\n",
              "    <tr>\n",
              "      <th>2</th>\n",
              "      <td>9531</td>\n",
              "      <td>31481</td>\n",
              "      <td>Cassie</td>\n",
              "      <td>2009-08-13</td>\n",
              "      <td>Seattle, WA</td>\n",
              "      <td>within a few hours</td>\n",
              "      <td>100%</td>\n",
              "      <td>77%</td>\n",
              "      <td>t</td>\n",
              "      <td>2</td>\n",
              "      <td>...</td>\n",
              "      <td>2.0</td>\n",
              "      <td>3.0</td>\n",
              "      <td>[\"Long term stays allowed\", \"Conditioner\", \"Cl...</td>\n",
              "      <td>175.0</td>\n",
              "      <td>71</td>\n",
              "      <td>4.90</td>\n",
              "      <td>2</td>\n",
              "      <td>63</td>\n",
              "      <td>Seattle</td>\n",
              "      <td>1.0</td>\n",
              "    </tr>\n",
              "    <tr>\n",
              "      <th>3</th>\n",
              "      <td>9534</td>\n",
              "      <td>31481</td>\n",
              "      <td>Cassie</td>\n",
              "      <td>2009-08-13</td>\n",
              "      <td>Seattle, WA</td>\n",
              "      <td>within a few hours</td>\n",
              "      <td>100%</td>\n",
              "      <td>77%</td>\n",
              "      <td>t</td>\n",
              "      <td>2</td>\n",
              "      <td>...</td>\n",
              "      <td>2.0</td>\n",
              "      <td>2.0</td>\n",
              "      <td>[\"Long term stays allowed\", \"Conditioner\", \"Cl...</td>\n",
              "      <td>135.0</td>\n",
              "      <td>73</td>\n",
              "      <td>4.94</td>\n",
              "      <td>2</td>\n",
              "      <td>57</td>\n",
              "      <td>Seattle</td>\n",
              "      <td>1.0</td>\n",
              "    </tr>\n",
              "    <tr>\n",
              "      <th>4</th>\n",
              "      <td>9596</td>\n",
              "      <td>14942</td>\n",
              "      <td>Joyce</td>\n",
              "      <td>2009-04-26</td>\n",
              "      <td>Seattle, WA</td>\n",
              "      <td>within a few hours</td>\n",
              "      <td>100%</td>\n",
              "      <td>94%</td>\n",
              "      <td>f</td>\n",
              "      <td>5</td>\n",
              "      <td>...</td>\n",
              "      <td>1.0</td>\n",
              "      <td>4.0</td>\n",
              "      <td>[\"Stove\", \"Hair dryer\", \"Shampoo\", \"Coffee mak...</td>\n",
              "      <td>130.0</td>\n",
              "      <td>97</td>\n",
              "      <td>4.56</td>\n",
              "      <td>3</td>\n",
              "      <td>28</td>\n",
              "      <td>Seattle</td>\n",
              "      <td>1.0</td>\n",
              "    </tr>\n",
              "    <tr>\n",
              "      <th>...</th>\n",
              "      <td>...</td>\n",
              "      <td>...</td>\n",
              "      <td>...</td>\n",
              "      <td>...</td>\n",
              "      <td>...</td>\n",
              "      <td>...</td>\n",
              "      <td>...</td>\n",
              "      <td>...</td>\n",
              "      <td>...</td>\n",
              "      <td>...</td>\n",
              "      <td>...</td>\n",
              "      <td>...</td>\n",
              "      <td>...</td>\n",
              "      <td>...</td>\n",
              "      <td>...</td>\n",
              "      <td>...</td>\n",
              "      <td>...</td>\n",
              "      <td>...</td>\n",
              "      <td>...</td>\n",
              "      <td>...</td>\n",
              "      <td>...</td>\n",
              "    </tr>\n",
              "    <tr>\n",
              "      <th>6371</th>\n",
              "      <td>1732441</td>\n",
              "      <td>1214247</td>\n",
              "      <td>Marcell</td>\n",
              "      <td>2011-09-27</td>\n",
              "      <td>Seattle, WA</td>\n",
              "      <td>within a few hours</td>\n",
              "      <td>100%</td>\n",
              "      <td>77%</td>\n",
              "      <td>f</td>\n",
              "      <td>1</td>\n",
              "      <td>...</td>\n",
              "      <td>1.0</td>\n",
              "      <td>1.0</td>\n",
              "      <td>[\"Long term stays allowed\", \"Washer\", \"Stove\",...</td>\n",
              "      <td>85.0</td>\n",
              "      <td>174</td>\n",
              "      <td>4.92</td>\n",
              "      <td>1</td>\n",
              "      <td>54</td>\n",
              "      <td>Seattle</td>\n",
              "      <td>1.0</td>\n",
              "    </tr>\n",
              "    <tr>\n",
              "      <th>6372</th>\n",
              "      <td>1737244</td>\n",
              "      <td>9148911</td>\n",
              "      <td>Constance</td>\n",
              "      <td>2013-09-30</td>\n",
              "      <td>Seattle, WA</td>\n",
              "      <td>NaN</td>\n",
              "      <td>NaN</td>\n",
              "      <td>50%</td>\n",
              "      <td>f</td>\n",
              "      <td>1</td>\n",
              "      <td>...</td>\n",
              "      <td>1.0</td>\n",
              "      <td>1.0</td>\n",
              "      <td>[\"Children\\u2019s dinnerware\", \"Washer\", \"Drye...</td>\n",
              "      <td>71.0</td>\n",
              "      <td>40</td>\n",
              "      <td>4.72</td>\n",
              "      <td>1</td>\n",
              "      <td>41</td>\n",
              "      <td>Seattle</td>\n",
              "      <td>1.0</td>\n",
              "    </tr>\n",
              "    <tr>\n",
              "      <th>6373</th>\n",
              "      <td>1764100</td>\n",
              "      <td>3074414</td>\n",
              "      <td>Melissa</td>\n",
              "      <td>2012-07-27</td>\n",
              "      <td>Seattle, WA</td>\n",
              "      <td>within an hour</td>\n",
              "      <td>98%</td>\n",
              "      <td>94%</td>\n",
              "      <td>f</td>\n",
              "      <td>118</td>\n",
              "      <td>...</td>\n",
              "      <td>1.0</td>\n",
              "      <td>2.0</td>\n",
              "      <td>[\"Long term stays allowed\", \"Cleaning products...</td>\n",
              "      <td>115.0</td>\n",
              "      <td>52</td>\n",
              "      <td>4.27</td>\n",
              "      <td>117</td>\n",
              "      <td>44</td>\n",
              "      <td>Seattle</td>\n",
              "      <td>1.0</td>\n",
              "    </tr>\n",
              "    <tr>\n",
              "      <th>6374</th>\n",
              "      <td>1773803</td>\n",
              "      <td>8026420</td>\n",
              "      <td>Sheldon</td>\n",
              "      <td>2013-08-08</td>\n",
              "      <td>Seattle, WA</td>\n",
              "      <td>within a day</td>\n",
              "      <td>100%</td>\n",
              "      <td>0%</td>\n",
              "      <td>f</td>\n",
              "      <td>2</td>\n",
              "      <td>...</td>\n",
              "      <td>1.0</td>\n",
              "      <td>1.0</td>\n",
              "      <td>[\"Washer\", \"Kitchen\", \"Dryer\", \"Smoke alarm\", ...</td>\n",
              "      <td>92.0</td>\n",
              "      <td>304</td>\n",
              "      <td>4.30</td>\n",
              "      <td>2</td>\n",
              "      <td>11</td>\n",
              "      <td>Seattle</td>\n",
              "      <td>1.0</td>\n",
              "    </tr>\n",
              "    <tr>\n",
              "      <th>6375</th>\n",
              "      <td>1775016</td>\n",
              "      <td>8315334</td>\n",
              "      <td>Robert</td>\n",
              "      <td>2013-08-22</td>\n",
              "      <td>Seattle, WA</td>\n",
              "      <td>within an hour</td>\n",
              "      <td>100%</td>\n",
              "      <td>99%</td>\n",
              "      <td>t</td>\n",
              "      <td>9</td>\n",
              "      <td>...</td>\n",
              "      <td>1.0</td>\n",
              "      <td>1.0</td>\n",
              "      <td>[\"Washer\", \"Air conditioning\", \"Cleaning produ...</td>\n",
              "      <td>79.0</td>\n",
              "      <td>411</td>\n",
              "      <td>4.76</td>\n",
              "      <td>3</td>\n",
              "      <td>51</td>\n",
              "      <td>Seattle</td>\n",
              "      <td>1.5</td>\n",
              "    </tr>\n",
              "  </tbody>\n",
              "</table>\n",
              "<p>6375 rows × 31 columns</p>\n",
              "</div>"
            ],
            "text/plain": [
              "           id  host_id  host_name  host_since host_location  \\\n",
              "0        6606    14942      Joyce  2009-04-26   Seattle, WA   \n",
              "1        9419    30559  Angielena  2009-08-09   Seattle, WA   \n",
              "2        9531    31481     Cassie  2009-08-13   Seattle, WA   \n",
              "3        9534    31481     Cassie  2009-08-13   Seattle, WA   \n",
              "4        9596    14942      Joyce  2009-04-26   Seattle, WA   \n",
              "...       ...      ...        ...         ...           ...   \n",
              "6371  1732441  1214247    Marcell  2011-09-27   Seattle, WA   \n",
              "6372  1737244  9148911  Constance  2013-09-30   Seattle, WA   \n",
              "6373  1764100  3074414    Melissa  2012-07-27   Seattle, WA   \n",
              "6374  1773803  8026420    Sheldon  2013-08-08   Seattle, WA   \n",
              "6375  1775016  8315334     Robert  2013-08-22   Seattle, WA   \n",
              "\n",
              "      host_response_time host_response_rate host_acceptance_rate  \\\n",
              "0     within a few hours               100%                  94%   \n",
              "1         within an hour               100%                  98%   \n",
              "2     within a few hours               100%                  77%   \n",
              "3     within a few hours               100%                  77%   \n",
              "4     within a few hours               100%                  94%   \n",
              "...                  ...                ...                  ...   \n",
              "6371  within a few hours               100%                  77%   \n",
              "6372                 NaN                NaN                  50%   \n",
              "6373      within an hour                98%                  94%   \n",
              "6374        within a day               100%                   0%   \n",
              "6375      within an hour               100%                  99%   \n",
              "\n",
              "     host_is_superhost  host_listings_count  ...  bedrooms beds  \\\n",
              "0                    f                    5  ...       1.0  1.0   \n",
              "1                    t                    9  ...       1.0  2.0   \n",
              "2                    t                    2  ...       2.0  3.0   \n",
              "3                    t                    2  ...       2.0  2.0   \n",
              "4                    f                    5  ...       1.0  4.0   \n",
              "...                ...                  ...  ...       ...  ...   \n",
              "6371                 f                    1  ...       1.0  1.0   \n",
              "6372                 f                    1  ...       1.0  1.0   \n",
              "6373                 f                  118  ...       1.0  2.0   \n",
              "6374                 f                    2  ...       1.0  1.0   \n",
              "6375                 t                    9  ...       1.0  1.0   \n",
              "\n",
              "                                              amenities  price  \\\n",
              "0     [\"Air conditioning\", \"Hair dryer\", \"Bed linens...   99.0   \n",
              "1     [\"Long term stays allowed\", \"Shared patio or b...   55.0   \n",
              "2     [\"Long term stays allowed\", \"Conditioner\", \"Cl...  175.0   \n",
              "3     [\"Long term stays allowed\", \"Conditioner\", \"Cl...  135.0   \n",
              "4     [\"Stove\", \"Hair dryer\", \"Shampoo\", \"Coffee mak...  130.0   \n",
              "...                                                 ...    ...   \n",
              "6371  [\"Long term stays allowed\", \"Washer\", \"Stove\",...   85.0   \n",
              "6372  [\"Children\\u2019s dinnerware\", \"Washer\", \"Drye...   71.0   \n",
              "6373  [\"Long term stays allowed\", \"Cleaning products...  115.0   \n",
              "6374  [\"Washer\", \"Kitchen\", \"Dryer\", \"Smoke alarm\", ...   92.0   \n",
              "6375  [\"Washer\", \"Air conditioning\", \"Cleaning produ...   79.0   \n",
              "\n",
              "     number_of_reviews review_scores_value  calculated_host_listings_count  \\\n",
              "0                  159                4.57                               3   \n",
              "1                  175                4.65                               9   \n",
              "2                   71                4.90                               2   \n",
              "3                   73                4.94                               2   \n",
              "4                   97                4.56                               3   \n",
              "...                ...                 ...                             ...   \n",
              "6371               174                4.92                               1   \n",
              "6372                40                4.72                               1   \n",
              "6373                52                4.27                             117   \n",
              "6374               304                4.30                               2   \n",
              "6375               411                4.76                               3   \n",
              "\n",
              "      amenities_count     city  num_bath  \n",
              "0                  27  Seattle       1.0  \n",
              "1                  31  Seattle       3.0  \n",
              "2                  63  Seattle       1.0  \n",
              "3                  57  Seattle       1.0  \n",
              "4                  28  Seattle       1.0  \n",
              "...               ...      ...       ...  \n",
              "6371               54  Seattle       1.0  \n",
              "6372               41  Seattle       1.0  \n",
              "6373               44  Seattle       1.0  \n",
              "6374               11  Seattle       1.0  \n",
              "6375               51  Seattle       1.5  \n",
              "\n",
              "[6375 rows x 31 columns]"
            ]
          },
          "execution_count": 35,
          "metadata": {},
          "output_type": "execute_result"
        }
      ],
      "source": [
        "updated_df"
      ]
    },
    {
      "cell_type": "markdown",
      "metadata": {},
      "source": [
        "# Impute Bedrooms and Beds"
      ]
    },
    {
      "cell_type": "code",
      "execution_count": 36,
      "metadata": {},
      "outputs": [
        {
          "data": {
            "text/plain": [
              "array([ 1.,  2.,  3.,  6., nan,  4.,  5.,  7.,  8., 11.])"
            ]
          },
          "execution_count": 36,
          "metadata": {},
          "output_type": "execute_result"
        }
      ],
      "source": [
        "updated_df['bedrooms'].unique()"
      ]
    },
    {
      "cell_type": "code",
      "execution_count": 37,
      "metadata": {},
      "outputs": [
        {
          "data": {
            "text/plain": [
              "array([ 1.,  2.,  3.,  4.,  5.,  7.,  8., nan,  6., 14., 12., 10., 15.,\n",
              "        9., 16., 11.])"
            ]
          },
          "execution_count": 37,
          "metadata": {},
          "output_type": "execute_result"
        }
      ],
      "source": [
        "updated_df['beds'].unique()"
      ]
    },
    {
      "cell_type": "code",
      "execution_count": 38,
      "metadata": {},
      "outputs": [
        {
          "data": {
            "text/html": [
              "<div>\n",
              "<style scoped>\n",
              "    .dataframe tbody tr th:only-of-type {\n",
              "        vertical-align: middle;\n",
              "    }\n",
              "\n",
              "    .dataframe tbody tr th {\n",
              "        vertical-align: top;\n",
              "    }\n",
              "\n",
              "    .dataframe thead th {\n",
              "        text-align: right;\n",
              "    }\n",
              "</style>\n",
              "<table border=\"1\" class=\"dataframe\">\n",
              "  <thead>\n",
              "    <tr style=\"text-align: right;\">\n",
              "      <th></th>\n",
              "      <th>id</th>\n",
              "      <th>host_id</th>\n",
              "      <th>host_name</th>\n",
              "      <th>host_since</th>\n",
              "      <th>host_location</th>\n",
              "      <th>host_response_time</th>\n",
              "      <th>host_response_rate</th>\n",
              "      <th>host_acceptance_rate</th>\n",
              "      <th>host_is_superhost</th>\n",
              "      <th>host_listings_count</th>\n",
              "      <th>...</th>\n",
              "      <th>bedrooms</th>\n",
              "      <th>beds</th>\n",
              "      <th>amenities</th>\n",
              "      <th>price</th>\n",
              "      <th>number_of_reviews</th>\n",
              "      <th>review_scores_value</th>\n",
              "      <th>calculated_host_listings_count</th>\n",
              "      <th>amenities_count</th>\n",
              "      <th>city</th>\n",
              "      <th>num_bath</th>\n",
              "    </tr>\n",
              "  </thead>\n",
              "  <tbody>\n",
              "    <tr>\n",
              "      <th>55</th>\n",
              "      <td>607788</td>\n",
              "      <td>103427</td>\n",
              "      <td>Jacqueline M</td>\n",
              "      <td>2010-04-04</td>\n",
              "      <td>San Francisco, CA</td>\n",
              "      <td>within a day</td>\n",
              "      <td>61%</td>\n",
              "      <td>8%</td>\n",
              "      <td>f</td>\n",
              "      <td>187</td>\n",
              "      <td>...</td>\n",
              "      <td>NaN</td>\n",
              "      <td>1.0</td>\n",
              "      <td>[\"Washer\", \"Kitchen\", \"Private entrance\", \"Dry...</td>\n",
              "      <td>232.0</td>\n",
              "      <td>2</td>\n",
              "      <td>3.00</td>\n",
              "      <td>2</td>\n",
              "      <td>14</td>\n",
              "      <td>Seattle</td>\n",
              "      <td>1.0</td>\n",
              "    </tr>\n",
              "    <tr>\n",
              "      <th>74</th>\n",
              "      <td>723846</td>\n",
              "      <td>3737272</td>\n",
              "      <td>Cheryl &amp; Steve</td>\n",
              "      <td>2012-10-02</td>\n",
              "      <td>Seattle, WA</td>\n",
              "      <td>within an hour</td>\n",
              "      <td>100%</td>\n",
              "      <td>100%</td>\n",
              "      <td>t</td>\n",
              "      <td>1</td>\n",
              "      <td>...</td>\n",
              "      <td>NaN</td>\n",
              "      <td>1.0</td>\n",
              "      <td>[\"Long term stays allowed\", \"Conditioner\", \"Cl...</td>\n",
              "      <td>129.0</td>\n",
              "      <td>179</td>\n",
              "      <td>4.80</td>\n",
              "      <td>1</td>\n",
              "      <td>60</td>\n",
              "      <td>Seattle</td>\n",
              "      <td>1.0</td>\n",
              "    </tr>\n",
              "    <tr>\n",
              "      <th>87</th>\n",
              "      <td>1820794</td>\n",
              "      <td>9533123</td>\n",
              "      <td>Pam</td>\n",
              "      <td>2013-10-20</td>\n",
              "      <td>Seattle, WA</td>\n",
              "      <td>within an hour</td>\n",
              "      <td>100%</td>\n",
              "      <td>96%</td>\n",
              "      <td>t</td>\n",
              "      <td>1</td>\n",
              "      <td>...</td>\n",
              "      <td>NaN</td>\n",
              "      <td>1.0</td>\n",
              "      <td>[\"Long term stays allowed\", \"Washer\", \"Air con...</td>\n",
              "      <td>134.0</td>\n",
              "      <td>561</td>\n",
              "      <td>4.93</td>\n",
              "      <td>1</td>\n",
              "      <td>42</td>\n",
              "      <td>Seattle</td>\n",
              "      <td>1.0</td>\n",
              "    </tr>\n",
              "    <tr>\n",
              "      <th>104</th>\n",
              "      <td>2150760</td>\n",
              "      <td>10977007</td>\n",
              "      <td>Michelle</td>\n",
              "      <td>2014-01-02</td>\n",
              "      <td>Seattle, WA</td>\n",
              "      <td>within a few hours</td>\n",
              "      <td>100%</td>\n",
              "      <td>79%</td>\n",
              "      <td>t</td>\n",
              "      <td>2</td>\n",
              "      <td>...</td>\n",
              "      <td>NaN</td>\n",
              "      <td>1.0</td>\n",
              "      <td>[\"Long term stays allowed\", \"Hair dryer\", \"Bed...</td>\n",
              "      <td>125.0</td>\n",
              "      <td>198</td>\n",
              "      <td>4.74</td>\n",
              "      <td>1</td>\n",
              "      <td>31</td>\n",
              "      <td>Seattle</td>\n",
              "      <td>1.0</td>\n",
              "    </tr>\n",
              "    <tr>\n",
              "      <th>111</th>\n",
              "      <td>2358140</td>\n",
              "      <td>3074414</td>\n",
              "      <td>Melissa</td>\n",
              "      <td>2012-07-27</td>\n",
              "      <td>Seattle, WA</td>\n",
              "      <td>within an hour</td>\n",
              "      <td>98%</td>\n",
              "      <td>94%</td>\n",
              "      <td>f</td>\n",
              "      <td>118</td>\n",
              "      <td>...</td>\n",
              "      <td>NaN</td>\n",
              "      <td>1.0</td>\n",
              "      <td>[\"Cleaning products\", \"Stove\", \"Bed linens\", \"...</td>\n",
              "      <td>80.0</td>\n",
              "      <td>43</td>\n",
              "      <td>4.21</td>\n",
              "      <td>117</td>\n",
              "      <td>32</td>\n",
              "      <td>Seattle</td>\n",
              "      <td>1.0</td>\n",
              "    </tr>\n",
              "    <tr>\n",
              "      <th>...</th>\n",
              "      <td>...</td>\n",
              "      <td>...</td>\n",
              "      <td>...</td>\n",
              "      <td>...</td>\n",
              "      <td>...</td>\n",
              "      <td>...</td>\n",
              "      <td>...</td>\n",
              "      <td>...</td>\n",
              "      <td>...</td>\n",
              "      <td>...</td>\n",
              "      <td>...</td>\n",
              "      <td>...</td>\n",
              "      <td>...</td>\n",
              "      <td>...</td>\n",
              "      <td>...</td>\n",
              "      <td>...</td>\n",
              "      <td>...</td>\n",
              "      <td>...</td>\n",
              "      <td>...</td>\n",
              "      <td>...</td>\n",
              "      <td>...</td>\n",
              "    </tr>\n",
              "    <tr>\n",
              "      <th>6259</th>\n",
              "      <td>846355703375944157</td>\n",
              "      <td>114858194</td>\n",
              "      <td>Elisabeth</td>\n",
              "      <td>2017-02-04</td>\n",
              "      <td>Seattle, WA</td>\n",
              "      <td>within an hour</td>\n",
              "      <td>100%</td>\n",
              "      <td>50%</td>\n",
              "      <td>f</td>\n",
              "      <td>3</td>\n",
              "      <td>...</td>\n",
              "      <td>NaN</td>\n",
              "      <td>1.0</td>\n",
              "      <td>[\"Long term stays allowed\", \"Conditioner\", \"Cl...</td>\n",
              "      <td>105.0</td>\n",
              "      <td>1</td>\n",
              "      <td>5.00</td>\n",
              "      <td>3</td>\n",
              "      <td>40</td>\n",
              "      <td>Seattle</td>\n",
              "      <td>1.0</td>\n",
              "    </tr>\n",
              "    <tr>\n",
              "      <th>6356</th>\n",
              "      <td>1589681</td>\n",
              "      <td>681242</td>\n",
              "      <td>Heather</td>\n",
              "      <td>2011-06-09</td>\n",
              "      <td>Seattle, WA</td>\n",
              "      <td>within an hour</td>\n",
              "      <td>100%</td>\n",
              "      <td>100%</td>\n",
              "      <td>f</td>\n",
              "      <td>1</td>\n",
              "      <td>...</td>\n",
              "      <td>NaN</td>\n",
              "      <td>1.0</td>\n",
              "      <td>[\"Conditioner\", \"Cleaning products\", \"Shared p...</td>\n",
              "      <td>79.0</td>\n",
              "      <td>381</td>\n",
              "      <td>4.75</td>\n",
              "      <td>1</td>\n",
              "      <td>47</td>\n",
              "      <td>Seattle</td>\n",
              "      <td>1.0</td>\n",
              "    </tr>\n",
              "    <tr>\n",
              "      <th>6361</th>\n",
              "      <td>1599010</td>\n",
              "      <td>3074414</td>\n",
              "      <td>Melissa</td>\n",
              "      <td>2012-07-27</td>\n",
              "      <td>Seattle, WA</td>\n",
              "      <td>within an hour</td>\n",
              "      <td>98%</td>\n",
              "      <td>94%</td>\n",
              "      <td>f</td>\n",
              "      <td>118</td>\n",
              "      <td>...</td>\n",
              "      <td>NaN</td>\n",
              "      <td>1.0</td>\n",
              "      <td>[\"Long term stays allowed\", \"Stove\", \"Bed line...</td>\n",
              "      <td>89.0</td>\n",
              "      <td>22</td>\n",
              "      <td>4.27</td>\n",
              "      <td>117</td>\n",
              "      <td>35</td>\n",
              "      <td>Seattle</td>\n",
              "      <td>1.0</td>\n",
              "    </tr>\n",
              "    <tr>\n",
              "      <th>6362</th>\n",
              "      <td>1603124</td>\n",
              "      <td>3074414</td>\n",
              "      <td>Melissa</td>\n",
              "      <td>2012-07-27</td>\n",
              "      <td>Seattle, WA</td>\n",
              "      <td>within an hour</td>\n",
              "      <td>98%</td>\n",
              "      <td>94%</td>\n",
              "      <td>f</td>\n",
              "      <td>118</td>\n",
              "      <td>...</td>\n",
              "      <td>NaN</td>\n",
              "      <td>1.0</td>\n",
              "      <td>[\"Stove\", \"Bed linens\", \"Shampoo\", \"Security c...</td>\n",
              "      <td>105.0</td>\n",
              "      <td>23</td>\n",
              "      <td>4.26</td>\n",
              "      <td>117</td>\n",
              "      <td>26</td>\n",
              "      <td>Seattle</td>\n",
              "      <td>1.0</td>\n",
              "    </tr>\n",
              "    <tr>\n",
              "      <th>6366</th>\n",
              "      <td>1647216</td>\n",
              "      <td>3074414</td>\n",
              "      <td>Melissa</td>\n",
              "      <td>2012-07-27</td>\n",
              "      <td>Seattle, WA</td>\n",
              "      <td>within an hour</td>\n",
              "      <td>98%</td>\n",
              "      <td>94%</td>\n",
              "      <td>f</td>\n",
              "      <td>118</td>\n",
              "      <td>...</td>\n",
              "      <td>NaN</td>\n",
              "      <td>1.0</td>\n",
              "      <td>[\"Washer\", \"Dryer\", \"Hair dryer\", \"Bed linens\"...</td>\n",
              "      <td>89.0</td>\n",
              "      <td>23</td>\n",
              "      <td>4.00</td>\n",
              "      <td>117</td>\n",
              "      <td>22</td>\n",
              "      <td>Seattle</td>\n",
              "      <td>1.0</td>\n",
              "    </tr>\n",
              "  </tbody>\n",
              "</table>\n",
              "<p>701 rows × 31 columns</p>\n",
              "</div>"
            ],
            "text/plain": [
              "                      id    host_id       host_name  host_since  \\\n",
              "55                607788     103427    Jacqueline M  2010-04-04   \n",
              "74                723846    3737272  Cheryl & Steve  2012-10-02   \n",
              "87               1820794    9533123             Pam  2013-10-20   \n",
              "104              2150760   10977007        Michelle  2014-01-02   \n",
              "111              2358140    3074414         Melissa  2012-07-27   \n",
              "...                  ...        ...             ...         ...   \n",
              "6259  846355703375944157  114858194       Elisabeth  2017-02-04   \n",
              "6356             1589681     681242         Heather  2011-06-09   \n",
              "6361             1599010    3074414         Melissa  2012-07-27   \n",
              "6362             1603124    3074414         Melissa  2012-07-27   \n",
              "6366             1647216    3074414         Melissa  2012-07-27   \n",
              "\n",
              "          host_location  host_response_time host_response_rate  \\\n",
              "55    San Francisco, CA        within a day                61%   \n",
              "74          Seattle, WA      within an hour               100%   \n",
              "87          Seattle, WA      within an hour               100%   \n",
              "104         Seattle, WA  within a few hours               100%   \n",
              "111         Seattle, WA      within an hour                98%   \n",
              "...                 ...                 ...                ...   \n",
              "6259        Seattle, WA      within an hour               100%   \n",
              "6356        Seattle, WA      within an hour               100%   \n",
              "6361        Seattle, WA      within an hour                98%   \n",
              "6362        Seattle, WA      within an hour                98%   \n",
              "6366        Seattle, WA      within an hour                98%   \n",
              "\n",
              "     host_acceptance_rate host_is_superhost  host_listings_count  ...  \\\n",
              "55                     8%                 f                  187  ...   \n",
              "74                   100%                 t                    1  ...   \n",
              "87                    96%                 t                    1  ...   \n",
              "104                   79%                 t                    2  ...   \n",
              "111                   94%                 f                  118  ...   \n",
              "...                   ...               ...                  ...  ...   \n",
              "6259                  50%                 f                    3  ...   \n",
              "6356                 100%                 f                    1  ...   \n",
              "6361                  94%                 f                  118  ...   \n",
              "6362                  94%                 f                  118  ...   \n",
              "6366                  94%                 f                  118  ...   \n",
              "\n",
              "      bedrooms beds                                          amenities  price  \\\n",
              "55         NaN  1.0  [\"Washer\", \"Kitchen\", \"Private entrance\", \"Dry...  232.0   \n",
              "74         NaN  1.0  [\"Long term stays allowed\", \"Conditioner\", \"Cl...  129.0   \n",
              "87         NaN  1.0  [\"Long term stays allowed\", \"Washer\", \"Air con...  134.0   \n",
              "104        NaN  1.0  [\"Long term stays allowed\", \"Hair dryer\", \"Bed...  125.0   \n",
              "111        NaN  1.0  [\"Cleaning products\", \"Stove\", \"Bed linens\", \"...   80.0   \n",
              "...        ...  ...                                                ...    ...   \n",
              "6259       NaN  1.0  [\"Long term stays allowed\", \"Conditioner\", \"Cl...  105.0   \n",
              "6356       NaN  1.0  [\"Conditioner\", \"Cleaning products\", \"Shared p...   79.0   \n",
              "6361       NaN  1.0  [\"Long term stays allowed\", \"Stove\", \"Bed line...   89.0   \n",
              "6362       NaN  1.0  [\"Stove\", \"Bed linens\", \"Shampoo\", \"Security c...  105.0   \n",
              "6366       NaN  1.0  [\"Washer\", \"Dryer\", \"Hair dryer\", \"Bed linens\"...   89.0   \n",
              "\n",
              "     number_of_reviews review_scores_value  calculated_host_listings_count  \\\n",
              "55                   2                3.00                               2   \n",
              "74                 179                4.80                               1   \n",
              "87                 561                4.93                               1   \n",
              "104                198                4.74                               1   \n",
              "111                 43                4.21                             117   \n",
              "...                ...                 ...                             ...   \n",
              "6259                 1                5.00                               3   \n",
              "6356               381                4.75                               1   \n",
              "6361                22                4.27                             117   \n",
              "6362                23                4.26                             117   \n",
              "6366                23                4.00                             117   \n",
              "\n",
              "      amenities_count     city  num_bath  \n",
              "55                 14  Seattle       1.0  \n",
              "74                 60  Seattle       1.0  \n",
              "87                 42  Seattle       1.0  \n",
              "104                31  Seattle       1.0  \n",
              "111                32  Seattle       1.0  \n",
              "...               ...      ...       ...  \n",
              "6259               40  Seattle       1.0  \n",
              "6356               47  Seattle       1.0  \n",
              "6361               35  Seattle       1.0  \n",
              "6362               26  Seattle       1.0  \n",
              "6366               22  Seattle       1.0  \n",
              "\n",
              "[701 rows x 31 columns]"
            ]
          },
          "execution_count": 38,
          "metadata": {},
          "output_type": "execute_result"
        }
      ],
      "source": [
        "updated_df[updated_df['bedrooms'].isnull()]"
      ]
    },
    {
      "cell_type": "code",
      "execution_count": 39,
      "metadata": {},
      "outputs": [
        {
          "data": {
            "text/html": [
              "<div>\n",
              "<style scoped>\n",
              "    .dataframe tbody tr th:only-of-type {\n",
              "        vertical-align: middle;\n",
              "    }\n",
              "\n",
              "    .dataframe tbody tr th {\n",
              "        vertical-align: top;\n",
              "    }\n",
              "\n",
              "    .dataframe thead th {\n",
              "        text-align: right;\n",
              "    }\n",
              "</style>\n",
              "<table border=\"1\" class=\"dataframe\">\n",
              "  <thead>\n",
              "    <tr style=\"text-align: right;\">\n",
              "      <th></th>\n",
              "      <th>id</th>\n",
              "      <th>host_id</th>\n",
              "      <th>host_name</th>\n",
              "      <th>host_since</th>\n",
              "      <th>host_location</th>\n",
              "      <th>host_response_time</th>\n",
              "      <th>host_response_rate</th>\n",
              "      <th>host_acceptance_rate</th>\n",
              "      <th>host_is_superhost</th>\n",
              "      <th>host_listings_count</th>\n",
              "      <th>...</th>\n",
              "      <th>bedrooms</th>\n",
              "      <th>beds</th>\n",
              "      <th>amenities</th>\n",
              "      <th>price</th>\n",
              "      <th>number_of_reviews</th>\n",
              "      <th>review_scores_value</th>\n",
              "      <th>calculated_host_listings_count</th>\n",
              "      <th>amenities_count</th>\n",
              "      <th>city</th>\n",
              "      <th>num_bath</th>\n",
              "    </tr>\n",
              "  </thead>\n",
              "  <tbody>\n",
              "    <tr>\n",
              "      <th>156</th>\n",
              "      <td>3022308</td>\n",
              "      <td>3074414</td>\n",
              "      <td>Melissa</td>\n",
              "      <td>2012-07-27</td>\n",
              "      <td>Seattle, WA</td>\n",
              "      <td>within an hour</td>\n",
              "      <td>98%</td>\n",
              "      <td>94%</td>\n",
              "      <td>f</td>\n",
              "      <td>118</td>\n",
              "      <td>...</td>\n",
              "      <td>1.0</td>\n",
              "      <td>NaN</td>\n",
              "      <td>[\"Long term stays allowed\", \"Cleaning products...</td>\n",
              "      <td>95.0</td>\n",
              "      <td>8</td>\n",
              "      <td>3.25</td>\n",
              "      <td>117</td>\n",
              "      <td>39</td>\n",
              "      <td>Seattle</td>\n",
              "      <td>1.0</td>\n",
              "    </tr>\n",
              "    <tr>\n",
              "      <th>229</th>\n",
              "      <td>4279578</td>\n",
              "      <td>22218808</td>\n",
              "      <td>Donna</td>\n",
              "      <td>2014-10-06</td>\n",
              "      <td>Seattle, WA</td>\n",
              "      <td>within a few hours</td>\n",
              "      <td>100%</td>\n",
              "      <td>93%</td>\n",
              "      <td>t</td>\n",
              "      <td>2</td>\n",
              "      <td>...</td>\n",
              "      <td>NaN</td>\n",
              "      <td>NaN</td>\n",
              "      <td>[\"Public or shared beach access\", \"First aid k...</td>\n",
              "      <td>84.0</td>\n",
              "      <td>406</td>\n",
              "      <td>4.85</td>\n",
              "      <td>1</td>\n",
              "      <td>39</td>\n",
              "      <td>Seattle</td>\n",
              "      <td>1.0</td>\n",
              "    </tr>\n",
              "    <tr>\n",
              "      <th>261</th>\n",
              "      <td>4993710</td>\n",
              "      <td>25746073</td>\n",
              "      <td>Shawna</td>\n",
              "      <td>2015-01-07</td>\n",
              "      <td>Seattle, WA</td>\n",
              "      <td>NaN</td>\n",
              "      <td>NaN</td>\n",
              "      <td>NaN</td>\n",
              "      <td>f</td>\n",
              "      <td>1</td>\n",
              "      <td>...</td>\n",
              "      <td>1.0</td>\n",
              "      <td>NaN</td>\n",
              "      <td>[\"Stove\", \"Shared patio or balcony\", \"First ai...</td>\n",
              "      <td>120.0</td>\n",
              "      <td>153</td>\n",
              "      <td>4.84</td>\n",
              "      <td>1</td>\n",
              "      <td>32</td>\n",
              "      <td>Seattle</td>\n",
              "      <td>1.0</td>\n",
              "    </tr>\n",
              "    <tr>\n",
              "      <th>294</th>\n",
              "      <td>5749958</td>\n",
              "      <td>3751963</td>\n",
              "      <td>Alan &amp; Katence</td>\n",
              "      <td>2012-10-03</td>\n",
              "      <td>Seattle, WA</td>\n",
              "      <td>within a day</td>\n",
              "      <td>50%</td>\n",
              "      <td>67%</td>\n",
              "      <td>f</td>\n",
              "      <td>1</td>\n",
              "      <td>...</td>\n",
              "      <td>2.0</td>\n",
              "      <td>NaN</td>\n",
              "      <td>[\"Washer\", \"Air conditioning\", \"Dryer\", \"Stove...</td>\n",
              "      <td>166.0</td>\n",
              "      <td>86</td>\n",
              "      <td>4.85</td>\n",
              "      <td>1</td>\n",
              "      <td>31</td>\n",
              "      <td>Seattle</td>\n",
              "      <td>1.0</td>\n",
              "    </tr>\n",
              "    <tr>\n",
              "      <th>623</th>\n",
              "      <td>12625278</td>\n",
              "      <td>16718874</td>\n",
              "      <td>Patrice</td>\n",
              "      <td>2014-06-12</td>\n",
              "      <td>Seattle, WA</td>\n",
              "      <td>within a day</td>\n",
              "      <td>100%</td>\n",
              "      <td>50%</td>\n",
              "      <td>f</td>\n",
              "      <td>1</td>\n",
              "      <td>...</td>\n",
              "      <td>1.0</td>\n",
              "      <td>NaN</td>\n",
              "      <td>[\"Washer\", \"Carbon monoxide alarm\", \"Kitchen\",...</td>\n",
              "      <td>53.0</td>\n",
              "      <td>170</td>\n",
              "      <td>4.79</td>\n",
              "      <td>1</td>\n",
              "      <td>14</td>\n",
              "      <td>Seattle</td>\n",
              "      <td>2.0</td>\n",
              "    </tr>\n",
              "    <tr>\n",
              "      <th>...</th>\n",
              "      <td>...</td>\n",
              "      <td>...</td>\n",
              "      <td>...</td>\n",
              "      <td>...</td>\n",
              "      <td>...</td>\n",
              "      <td>...</td>\n",
              "      <td>...</td>\n",
              "      <td>...</td>\n",
              "      <td>...</td>\n",
              "      <td>...</td>\n",
              "      <td>...</td>\n",
              "      <td>...</td>\n",
              "      <td>...</td>\n",
              "      <td>...</td>\n",
              "      <td>...</td>\n",
              "      <td>...</td>\n",
              "      <td>...</td>\n",
              "      <td>...</td>\n",
              "      <td>...</td>\n",
              "      <td>...</td>\n",
              "      <td>...</td>\n",
              "    </tr>\n",
              "    <tr>\n",
              "      <th>4895</th>\n",
              "      <td>671669265235442364</td>\n",
              "      <td>219526255</td>\n",
              "      <td>Sonder (Seattle)</td>\n",
              "      <td>2018-10-08</td>\n",
              "      <td>Seattle, WA</td>\n",
              "      <td>within an hour</td>\n",
              "      <td>99%</td>\n",
              "      <td>99%</td>\n",
              "      <td>f</td>\n",
              "      <td>18</td>\n",
              "      <td>...</td>\n",
              "      <td>NaN</td>\n",
              "      <td>NaN</td>\n",
              "      <td>[\"Washer\", \"Air conditioning\", \"Dryer\", \"Stove...</td>\n",
              "      <td>160.0</td>\n",
              "      <td>4</td>\n",
              "      <td>5.00</td>\n",
              "      <td>18</td>\n",
              "      <td>30</td>\n",
              "      <td>Seattle</td>\n",
              "      <td>1.0</td>\n",
              "    </tr>\n",
              "    <tr>\n",
              "      <th>4896</th>\n",
              "      <td>671670971425563724</td>\n",
              "      <td>219526255</td>\n",
              "      <td>Sonder (Seattle)</td>\n",
              "      <td>2018-10-08</td>\n",
              "      <td>Seattle, WA</td>\n",
              "      <td>within an hour</td>\n",
              "      <td>99%</td>\n",
              "      <td>99%</td>\n",
              "      <td>f</td>\n",
              "      <td>18</td>\n",
              "      <td>...</td>\n",
              "      <td>NaN</td>\n",
              "      <td>NaN</td>\n",
              "      <td>[\"Washer\", \"Air conditioning\", \"Dryer\", \"Stove...</td>\n",
              "      <td>167.0</td>\n",
              "      <td>86</td>\n",
              "      <td>4.53</td>\n",
              "      <td>18</td>\n",
              "      <td>30</td>\n",
              "      <td>Seattle</td>\n",
              "      <td>1.0</td>\n",
              "    </tr>\n",
              "    <tr>\n",
              "      <th>4897</th>\n",
              "      <td>671679008224438796</td>\n",
              "      <td>219526255</td>\n",
              "      <td>Sonder (Seattle)</td>\n",
              "      <td>2018-10-08</td>\n",
              "      <td>Seattle, WA</td>\n",
              "      <td>within an hour</td>\n",
              "      <td>99%</td>\n",
              "      <td>99%</td>\n",
              "      <td>f</td>\n",
              "      <td>18</td>\n",
              "      <td>...</td>\n",
              "      <td>NaN</td>\n",
              "      <td>NaN</td>\n",
              "      <td>[\"Washer\", \"Air conditioning\", \"Dryer\", \"Stove...</td>\n",
              "      <td>236.0</td>\n",
              "      <td>83</td>\n",
              "      <td>4.47</td>\n",
              "      <td>18</td>\n",
              "      <td>30</td>\n",
              "      <td>Seattle</td>\n",
              "      <td>1.0</td>\n",
              "    </tr>\n",
              "    <tr>\n",
              "      <th>4899</th>\n",
              "      <td>671687362388947426</td>\n",
              "      <td>219526255</td>\n",
              "      <td>Sonder (Seattle)</td>\n",
              "      <td>2018-10-08</td>\n",
              "      <td>Seattle, WA</td>\n",
              "      <td>within an hour</td>\n",
              "      <td>99%</td>\n",
              "      <td>99%</td>\n",
              "      <td>f</td>\n",
              "      <td>18</td>\n",
              "      <td>...</td>\n",
              "      <td>1.0</td>\n",
              "      <td>NaN</td>\n",
              "      <td>[\"Washer\", \"Air conditioning\", \"Dryer\", \"Stove...</td>\n",
              "      <td>151.0</td>\n",
              "      <td>2</td>\n",
              "      <td>4.50</td>\n",
              "      <td>18</td>\n",
              "      <td>30</td>\n",
              "      <td>Seattle</td>\n",
              "      <td>1.0</td>\n",
              "    </tr>\n",
              "    <tr>\n",
              "      <th>4916</th>\n",
              "      <td>673851852089354481</td>\n",
              "      <td>219526255</td>\n",
              "      <td>Sonder (Seattle)</td>\n",
              "      <td>2018-10-08</td>\n",
              "      <td>Seattle, WA</td>\n",
              "      <td>within an hour</td>\n",
              "      <td>99%</td>\n",
              "      <td>99%</td>\n",
              "      <td>f</td>\n",
              "      <td>18</td>\n",
              "      <td>...</td>\n",
              "      <td>NaN</td>\n",
              "      <td>NaN</td>\n",
              "      <td>[\"Carbon monoxide alarm\", \"Air conditioning\", ...</td>\n",
              "      <td>144.0</td>\n",
              "      <td>1</td>\n",
              "      <td>5.00</td>\n",
              "      <td>18</td>\n",
              "      <td>17</td>\n",
              "      <td>Seattle</td>\n",
              "      <td>1.0</td>\n",
              "    </tr>\n",
              "  </tbody>\n",
              "</table>\n",
              "<p>69 rows × 31 columns</p>\n",
              "</div>"
            ],
            "text/plain": [
              "                      id    host_id         host_name  host_since  \\\n",
              "156              3022308    3074414           Melissa  2012-07-27   \n",
              "229              4279578   22218808             Donna  2014-10-06   \n",
              "261              4993710   25746073            Shawna  2015-01-07   \n",
              "294              5749958    3751963    Alan & Katence  2012-10-03   \n",
              "623             12625278   16718874           Patrice  2014-06-12   \n",
              "...                  ...        ...               ...         ...   \n",
              "4895  671669265235442364  219526255  Sonder (Seattle)  2018-10-08   \n",
              "4896  671670971425563724  219526255  Sonder (Seattle)  2018-10-08   \n",
              "4897  671679008224438796  219526255  Sonder (Seattle)  2018-10-08   \n",
              "4899  671687362388947426  219526255  Sonder (Seattle)  2018-10-08   \n",
              "4916  673851852089354481  219526255  Sonder (Seattle)  2018-10-08   \n",
              "\n",
              "     host_location  host_response_time host_response_rate  \\\n",
              "156    Seattle, WA      within an hour                98%   \n",
              "229    Seattle, WA  within a few hours               100%   \n",
              "261    Seattle, WA                 NaN                NaN   \n",
              "294    Seattle, WA        within a day                50%   \n",
              "623    Seattle, WA        within a day               100%   \n",
              "...            ...                 ...                ...   \n",
              "4895   Seattle, WA      within an hour                99%   \n",
              "4896   Seattle, WA      within an hour                99%   \n",
              "4897   Seattle, WA      within an hour                99%   \n",
              "4899   Seattle, WA      within an hour                99%   \n",
              "4916   Seattle, WA      within an hour                99%   \n",
              "\n",
              "     host_acceptance_rate host_is_superhost  host_listings_count  ...  \\\n",
              "156                   94%                 f                  118  ...   \n",
              "229                   93%                 t                    2  ...   \n",
              "261                   NaN                 f                    1  ...   \n",
              "294                   67%                 f                    1  ...   \n",
              "623                   50%                 f                    1  ...   \n",
              "...                   ...               ...                  ...  ...   \n",
              "4895                  99%                 f                   18  ...   \n",
              "4896                  99%                 f                   18  ...   \n",
              "4897                  99%                 f                   18  ...   \n",
              "4899                  99%                 f                   18  ...   \n",
              "4916                  99%                 f                   18  ...   \n",
              "\n",
              "      bedrooms beds                                          amenities  price  \\\n",
              "156        1.0  NaN  [\"Long term stays allowed\", \"Cleaning products...   95.0   \n",
              "229        NaN  NaN  [\"Public or shared beach access\", \"First aid k...   84.0   \n",
              "261        1.0  NaN  [\"Stove\", \"Shared patio or balcony\", \"First ai...  120.0   \n",
              "294        2.0  NaN  [\"Washer\", \"Air conditioning\", \"Dryer\", \"Stove...  166.0   \n",
              "623        1.0  NaN  [\"Washer\", \"Carbon monoxide alarm\", \"Kitchen\",...   53.0   \n",
              "...        ...  ...                                                ...    ...   \n",
              "4895       NaN  NaN  [\"Washer\", \"Air conditioning\", \"Dryer\", \"Stove...  160.0   \n",
              "4896       NaN  NaN  [\"Washer\", \"Air conditioning\", \"Dryer\", \"Stove...  167.0   \n",
              "4897       NaN  NaN  [\"Washer\", \"Air conditioning\", \"Dryer\", \"Stove...  236.0   \n",
              "4899       1.0  NaN  [\"Washer\", \"Air conditioning\", \"Dryer\", \"Stove...  151.0   \n",
              "4916       NaN  NaN  [\"Carbon monoxide alarm\", \"Air conditioning\", ...  144.0   \n",
              "\n",
              "     number_of_reviews review_scores_value  calculated_host_listings_count  \\\n",
              "156                  8                3.25                             117   \n",
              "229                406                4.85                               1   \n",
              "261                153                4.84                               1   \n",
              "294                 86                4.85                               1   \n",
              "623                170                4.79                               1   \n",
              "...                ...                 ...                             ...   \n",
              "4895                 4                5.00                              18   \n",
              "4896                86                4.53                              18   \n",
              "4897                83                4.47                              18   \n",
              "4899                 2                4.50                              18   \n",
              "4916                 1                5.00                              18   \n",
              "\n",
              "      amenities_count     city  num_bath  \n",
              "156                39  Seattle       1.0  \n",
              "229                39  Seattle       1.0  \n",
              "261                32  Seattle       1.0  \n",
              "294                31  Seattle       1.0  \n",
              "623                14  Seattle       2.0  \n",
              "...               ...      ...       ...  \n",
              "4895               30  Seattle       1.0  \n",
              "4896               30  Seattle       1.0  \n",
              "4897               30  Seattle       1.0  \n",
              "4899               30  Seattle       1.0  \n",
              "4916               17  Seattle       1.0  \n",
              "\n",
              "[69 rows x 31 columns]"
            ]
          },
          "execution_count": 39,
          "metadata": {},
          "output_type": "execute_result"
        }
      ],
      "source": [
        "updated_df[updated_df['beds'].isnull()]"
      ]
    },
    {
      "cell_type": "code",
      "execution_count": 40,
      "metadata": {},
      "outputs": [],
      "source": [
        "def update_bedrooms_and_beds(df):\n",
        "    \"\"\"\n",
        "    Updates the 'bedrooms' and 'beds' columns based on the conditions:\n",
        "    1. If 'bedrooms' is null, set it to the rounded up value of 'num_bath'.\n",
        "    2. If 'beds' is null, copy the value from 'bedrooms'.\n",
        "    \"\"\"\n",
        "    # Rule 1: If bedrooms is NaN, round up 'num_bath' to nearest integer and assign to 'bedrooms'\n",
        "    df.loc[df['bedrooms'].isnull(), 'bedrooms'] = np.ceil(df['num_bath'])\n",
        "    \n",
        "    # Rule 2: If beds is NaN, copy the value from 'bedrooms'\n",
        "    df.loc[df['beds'].isnull(), 'beds'] = df['bedrooms']\n",
        "    \n",
        "    return df\n"
      ]
    },
    {
      "cell_type": "code",
      "execution_count": 41,
      "metadata": {},
      "outputs": [],
      "source": [
        "updated_df = update_bedrooms_and_beds(updated_df)\n"
      ]
    },
    {
      "cell_type": "code",
      "execution_count": 42,
      "metadata": {},
      "outputs": [
        {
          "data": {
            "text/html": [
              "<div>\n",
              "<style scoped>\n",
              "    .dataframe tbody tr th:only-of-type {\n",
              "        vertical-align: middle;\n",
              "    }\n",
              "\n",
              "    .dataframe tbody tr th {\n",
              "        vertical-align: top;\n",
              "    }\n",
              "\n",
              "    .dataframe thead th {\n",
              "        text-align: right;\n",
              "    }\n",
              "</style>\n",
              "<table border=\"1\" class=\"dataframe\">\n",
              "  <thead>\n",
              "    <tr style=\"text-align: right;\">\n",
              "      <th></th>\n",
              "      <th>id</th>\n",
              "      <th>host_id</th>\n",
              "      <th>host_name</th>\n",
              "      <th>host_since</th>\n",
              "      <th>host_location</th>\n",
              "      <th>host_response_time</th>\n",
              "      <th>host_response_rate</th>\n",
              "      <th>host_acceptance_rate</th>\n",
              "      <th>host_is_superhost</th>\n",
              "      <th>host_listings_count</th>\n",
              "      <th>...</th>\n",
              "      <th>bedrooms</th>\n",
              "      <th>beds</th>\n",
              "      <th>amenities</th>\n",
              "      <th>price</th>\n",
              "      <th>number_of_reviews</th>\n",
              "      <th>review_scores_value</th>\n",
              "      <th>calculated_host_listings_count</th>\n",
              "      <th>amenities_count</th>\n",
              "      <th>city</th>\n",
              "      <th>num_bath</th>\n",
              "    </tr>\n",
              "  </thead>\n",
              "  <tbody>\n",
              "  </tbody>\n",
              "</table>\n",
              "<p>0 rows × 31 columns</p>\n",
              "</div>"
            ],
            "text/plain": [
              "Empty DataFrame\n",
              "Columns: [id, host_id, host_name, host_since, host_location, host_response_time, host_response_rate, host_acceptance_rate, host_is_superhost, host_listings_count, host_total_listings_count, host_verifications, host_has_profile_pic, host_identity_verified, neighbourhood, neighbourhood_cleansed, latitude, longitude, room_type, accommodates, bathrooms_text, bedrooms, beds, amenities, price, number_of_reviews, review_scores_value, calculated_host_listings_count, amenities_count, city, num_bath]\n",
              "Index: []\n",
              "\n",
              "[0 rows x 31 columns]"
            ]
          },
          "execution_count": 42,
          "metadata": {},
          "output_type": "execute_result"
        }
      ],
      "source": [
        "# check for the previous NA rows in bedrooms\n",
        "updated_df[\n",
        "    (updated_df['id'] == 6413) | \n",
        "    (updated_df['id'] == 78884) | \n",
        "    (updated_df['id'] == 219168) | \n",
        "    (updated_df['id'] == 224603) |\n",
        "    (updated_df['id'] == 343889) | \n",
        "    (updated_df['id'] == 844959293264278924) | \n",
        "    (updated_df['id'] == 834072988781055677) \n",
        "]"
      ]
    },
    {
      "cell_type": "code",
      "execution_count": 43,
      "metadata": {},
      "outputs": [],
      "source": [
        "# check for the previous NA rows in beds\n",
        "# updated_df[\n",
        "#     (updated_df['id'] == 49229073)\n",
        "# ]"
      ]
    },
    {
      "cell_type": "code",
      "execution_count": 44,
      "metadata": {},
      "outputs": [
        {
          "data": {
            "text/plain": [
              "array([ 1.,  2.,  3.,  4.,  5.,  7.,  8.,  6., 14., 12., 10., 15.,  9.,\n",
              "       16.,  0., 11.])"
            ]
          },
          "execution_count": 44,
          "metadata": {},
          "output_type": "execute_result"
        }
      ],
      "source": [
        "updated_df['beds'].unique()"
      ]
    },
    {
      "cell_type": "code",
      "execution_count": 45,
      "metadata": {},
      "outputs": [
        {
          "data": {
            "text/html": [
              "<div>\n",
              "<style scoped>\n",
              "    .dataframe tbody tr th:only-of-type {\n",
              "        vertical-align: middle;\n",
              "    }\n",
              "\n",
              "    .dataframe tbody tr th {\n",
              "        vertical-align: top;\n",
              "    }\n",
              "\n",
              "    .dataframe thead th {\n",
              "        text-align: right;\n",
              "    }\n",
              "</style>\n",
              "<table border=\"1\" class=\"dataframe\">\n",
              "  <thead>\n",
              "    <tr style=\"text-align: right;\">\n",
              "      <th></th>\n",
              "      <th>id</th>\n",
              "      <th>host_id</th>\n",
              "      <th>host_name</th>\n",
              "      <th>host_since</th>\n",
              "      <th>host_location</th>\n",
              "      <th>host_response_time</th>\n",
              "      <th>host_response_rate</th>\n",
              "      <th>host_acceptance_rate</th>\n",
              "      <th>host_is_superhost</th>\n",
              "      <th>host_listings_count</th>\n",
              "      <th>...</th>\n",
              "      <th>bedrooms</th>\n",
              "      <th>beds</th>\n",
              "      <th>amenities</th>\n",
              "      <th>price</th>\n",
              "      <th>number_of_reviews</th>\n",
              "      <th>review_scores_value</th>\n",
              "      <th>calculated_host_listings_count</th>\n",
              "      <th>amenities_count</th>\n",
              "      <th>city</th>\n",
              "      <th>num_bath</th>\n",
              "    </tr>\n",
              "  </thead>\n",
              "  <tbody>\n",
              "  </tbody>\n",
              "</table>\n",
              "<p>0 rows × 31 columns</p>\n",
              "</div>"
            ],
            "text/plain": [
              "Empty DataFrame\n",
              "Columns: [id, host_id, host_name, host_since, host_location, host_response_time, host_response_rate, host_acceptance_rate, host_is_superhost, host_listings_count, host_total_listings_count, host_verifications, host_has_profile_pic, host_identity_verified, neighbourhood, neighbourhood_cleansed, latitude, longitude, room_type, accommodates, bathrooms_text, bedrooms, beds, amenities, price, number_of_reviews, review_scores_value, calculated_host_listings_count, amenities_count, city, num_bath]\n",
              "Index: []\n",
              "\n",
              "[0 rows x 31 columns]"
            ]
          },
          "execution_count": 45,
          "metadata": {},
          "output_type": "execute_result"
        }
      ],
      "source": [
        "updated_df[updated_df['beds'].isnull()]"
      ]
    },
    {
      "cell_type": "code",
      "execution_count": 46,
      "metadata": {},
      "outputs": [
        {
          "data": {
            "text/plain": [
              "array([ 1.,  2.,  3.,  6.,  4.,  5.,  7.,  8.,  0., 16., 11.])"
            ]
          },
          "execution_count": 46,
          "metadata": {},
          "output_type": "execute_result"
        }
      ],
      "source": [
        "updated_df['bedrooms'].unique()"
      ]
    },
    {
      "cell_type": "code",
      "execution_count": 47,
      "metadata": {},
      "outputs": [
        {
          "data": {
            "text/html": [
              "<div>\n",
              "<style scoped>\n",
              "    .dataframe tbody tr th:only-of-type {\n",
              "        vertical-align: middle;\n",
              "    }\n",
              "\n",
              "    .dataframe tbody tr th {\n",
              "        vertical-align: top;\n",
              "    }\n",
              "\n",
              "    .dataframe thead th {\n",
              "        text-align: right;\n",
              "    }\n",
              "</style>\n",
              "<table border=\"1\" class=\"dataframe\">\n",
              "  <thead>\n",
              "    <tr style=\"text-align: right;\">\n",
              "      <th></th>\n",
              "      <th>id</th>\n",
              "      <th>host_id</th>\n",
              "      <th>host_name</th>\n",
              "      <th>host_since</th>\n",
              "      <th>host_location</th>\n",
              "      <th>host_response_time</th>\n",
              "      <th>host_response_rate</th>\n",
              "      <th>host_acceptance_rate</th>\n",
              "      <th>host_is_superhost</th>\n",
              "      <th>host_listings_count</th>\n",
              "      <th>...</th>\n",
              "      <th>bedrooms</th>\n",
              "      <th>beds</th>\n",
              "      <th>amenities</th>\n",
              "      <th>price</th>\n",
              "      <th>number_of_reviews</th>\n",
              "      <th>review_scores_value</th>\n",
              "      <th>calculated_host_listings_count</th>\n",
              "      <th>amenities_count</th>\n",
              "      <th>city</th>\n",
              "      <th>num_bath</th>\n",
              "    </tr>\n",
              "  </thead>\n",
              "  <tbody>\n",
              "  </tbody>\n",
              "</table>\n",
              "<p>0 rows × 31 columns</p>\n",
              "</div>"
            ],
            "text/plain": [
              "Empty DataFrame\n",
              "Columns: [id, host_id, host_name, host_since, host_location, host_response_time, host_response_rate, host_acceptance_rate, host_is_superhost, host_listings_count, host_total_listings_count, host_verifications, host_has_profile_pic, host_identity_verified, neighbourhood, neighbourhood_cleansed, latitude, longitude, room_type, accommodates, bathrooms_text, bedrooms, beds, amenities, price, number_of_reviews, review_scores_value, calculated_host_listings_count, amenities_count, city, num_bath]\n",
              "Index: []\n",
              "\n",
              "[0 rows x 31 columns]"
            ]
          },
          "execution_count": 47,
          "metadata": {},
          "output_type": "execute_result"
        }
      ],
      "source": [
        "updated_df[updated_df['bedrooms'].isnull()]"
      ]
    },
    {
      "cell_type": "markdown",
      "metadata": {},
      "source": [
        "# host_since"
      ]
    },
    {
      "cell_type": "code",
      "execution_count": 48,
      "metadata": {},
      "outputs": [
        {
          "name": "stdout",
          "output_type": "stream",
          "text": [
            "There are 0 missing values in the \"host_since\" column.\n"
          ]
        }
      ],
      "source": [
        "# check the number of missing values\n",
        "na = updated_df['host_since'].isnull().sum()\n",
        "print(f'There are {na} missing values in the \"host_since\" column.')\n",
        "\n",
        "# Fill missing values with the most recent date\n",
        "most_recent_date = pd.to_datetime(updated_df['host_since']).max().strftime(\"%B %Y\")\n",
        "updated_df['host_since'].fillna(most_recent_date, inplace=True)\n"
      ]
    },
    {
      "cell_type": "code",
      "execution_count": 49,
      "metadata": {},
      "outputs": [
        {
          "data": {
            "text/plain": [
              "0"
            ]
          },
          "execution_count": 49,
          "metadata": {},
          "output_type": "execute_result"
        }
      ],
      "source": [
        "updated_df['host_since'].isnull().sum()"
      ]
    },
    {
      "cell_type": "code",
      "execution_count": 50,
      "metadata": {},
      "outputs": [
        {
          "data": {
            "text/plain": [
              "array(['2009-04-26', '2009-08-09', '2009-08-13', ..., '2013-09-20',\n",
              "       '2011-09-27', '2013-09-30'], dtype=object)"
            ]
          },
          "execution_count": 50,
          "metadata": {},
          "output_type": "execute_result"
        }
      ],
      "source": [
        "updated_df['host_since'].unique()"
      ]
    },
    {
      "cell_type": "code",
      "execution_count": 51,
      "metadata": {},
      "outputs": [
        {
          "data": {
            "text/html": [
              "<div>\n",
              "<style scoped>\n",
              "    .dataframe tbody tr th:only-of-type {\n",
              "        vertical-align: middle;\n",
              "    }\n",
              "\n",
              "    .dataframe tbody tr th {\n",
              "        vertical-align: top;\n",
              "    }\n",
              "\n",
              "    .dataframe thead th {\n",
              "        text-align: right;\n",
              "    }\n",
              "</style>\n",
              "<table border=\"1\" class=\"dataframe\">\n",
              "  <thead>\n",
              "    <tr style=\"text-align: right;\">\n",
              "      <th></th>\n",
              "      <th>id</th>\n",
              "      <th>host_id</th>\n",
              "      <th>host_name</th>\n",
              "      <th>host_since</th>\n",
              "      <th>host_location</th>\n",
              "      <th>host_response_time</th>\n",
              "      <th>host_response_rate</th>\n",
              "      <th>host_acceptance_rate</th>\n",
              "      <th>host_is_superhost</th>\n",
              "      <th>host_listings_count</th>\n",
              "      <th>...</th>\n",
              "      <th>bedrooms</th>\n",
              "      <th>beds</th>\n",
              "      <th>amenities</th>\n",
              "      <th>price</th>\n",
              "      <th>number_of_reviews</th>\n",
              "      <th>review_scores_value</th>\n",
              "      <th>calculated_host_listings_count</th>\n",
              "      <th>amenities_count</th>\n",
              "      <th>city</th>\n",
              "      <th>num_bath</th>\n",
              "    </tr>\n",
              "  </thead>\n",
              "  <tbody>\n",
              "  </tbody>\n",
              "</table>\n",
              "<p>0 rows × 31 columns</p>\n",
              "</div>"
            ],
            "text/plain": [
              "Empty DataFrame\n",
              "Columns: [id, host_id, host_name, host_since, host_location, host_response_time, host_response_rate, host_acceptance_rate, host_is_superhost, host_listings_count, host_total_listings_count, host_verifications, host_has_profile_pic, host_identity_verified, neighbourhood, neighbourhood_cleansed, latitude, longitude, room_type, accommodates, bathrooms_text, bedrooms, beds, amenities, price, number_of_reviews, review_scores_value, calculated_host_listings_count, amenities_count, city, num_bath]\n",
              "Index: []\n",
              "\n",
              "[0 rows x 31 columns]"
            ]
          },
          "execution_count": 51,
          "metadata": {},
          "output_type": "execute_result"
        }
      ],
      "source": [
        "updated_df[updated_df['host_since'] =='']"
      ]
    },
    {
      "cell_type": "markdown",
      "metadata": {},
      "source": [
        "# host_location"
      ]
    },
    {
      "cell_type": "code",
      "execution_count": 52,
      "metadata": {},
      "outputs": [
        {
          "name": "stdout",
          "output_type": "stream",
          "text": [
            "There are 900 missing values in the \"host_location\" column.\n"
          ]
        }
      ],
      "source": [
        "# check the number of missing values\n",
        "na = updated_df['host_location'].isnull().sum()\n",
        "print(f'There are {na} missing values in the \"host_location\" column.')\n",
        "\n",
        "# Fill missing values with 'unknown'\n",
        "updated_df['host_location'].fillna(\"unknown\", inplace=True)"
      ]
    },
    {
      "cell_type": "code",
      "execution_count": 53,
      "metadata": {},
      "outputs": [
        {
          "data": {
            "text/plain": [
              "0"
            ]
          },
          "execution_count": 53,
          "metadata": {},
          "output_type": "execute_result"
        }
      ],
      "source": [
        "updated_df['host_location'].isnull().sum()"
      ]
    },
    {
      "cell_type": "code",
      "execution_count": 54,
      "metadata": {},
      "outputs": [
        {
          "data": {
            "text/plain": [
              "900"
            ]
          },
          "execution_count": 54,
          "metadata": {},
          "output_type": "execute_result"
        }
      ],
      "source": [
        "count_unknown_location = (updated_df['host_location'] == 'unknown').sum()\n",
        "count_unknown_location"
      ]
    },
    {
      "cell_type": "code",
      "execution_count": 55,
      "metadata": {},
      "outputs": [
        {
          "data": {
            "text/plain": [
              "array(['Seattle, WA', 'Carlsbad, CA', 'Grosse Pointe Farms, MI',\n",
              "       'unknown', 'Vashon, WA', 'Silver Lake, WA',\n",
              "       'Port Coquitlam, Canada', 'San Francisco, CA', 'Luxembourg',\n",
              "       'Washington, United States', 'Anacortes, WA', 'Mount Vernon, WA',\n",
              "       'Berkeley, CA', 'Bend, OR', 'Bellevue, WA', 'Kapaa, HI',\n",
              "       'San Diego, CA', 'Gig Harbor, WA', 'Honolulu, HI',\n",
              "       'Woodinville, WA', 'Edmonds, WA', 'Mountlake Terrace, WA',\n",
              "       'San Jose, CA', 'Palo Alto, CA', 'Prescott Valley, AZ',\n",
              "       'Holland, MI', 'Washington, CA', 'Santa Fe, NM',\n",
              "       'St Petersburg, FL', 'United States', 'Bow, WA', 'Camas, WA',\n",
              "       'Santa Clarita, CA', 'Soldotna, AK', 'New South Wales, Australia',\n",
              "       'Wenatchee, WA', 'Tacoma, WA', 'Renton, WA', 'Vancouver, Canada',\n",
              "       'Kirkland, WA', 'Redmond, WA', 'Issaquah, WA', 'Merrick, NY',\n",
              "       'Normandy Park, WA', 'Kent, WA', 'Sammamish, WA',\n",
              "       'University Place, WA', 'Houston, TX', 'New York, NY',\n",
              "       'South Windsor, CT', 'Chicago, IL', 'Anchorage, AK',\n",
              "       'Missouri, United States', 'Puyallup, WA', 'Bothell, WA',\n",
              "       'Manson, WA', 'Mercer Island, WA', 'Farmington, NM',\n",
              "       'Los Angeles, CA', 'California, United States', 'Shoreline, WA',\n",
              "       'Maple Valley, WA', 'Geneva, Switzerland', 'Santa Monica, CA',\n",
              "       'Johannesburg, South Africa', 'Winthrop, WA',\n",
              "       'West Menlo Park, CA', 'Kissimmee, FL', 'Buenos Aires, Argentina',\n",
              "       'Portland, OR', 'Indonesia', 'Orlando, FL', 'Ann Arbor, MI',\n",
              "       'Fresno, CA', 'Spokane, WA', 'Denver, CO', 'Bainbridge Island, WA',\n",
              "       'Arlington, VA', 'Portland, ME', 'Marina del Rey, CA',\n",
              "       'Lander, WY', 'Oakville, Canada', 'Idaho, United States',\n",
              "       'Austin, TX', 'New Orleans, LA', 'Middletown, RI', 'Columbus, OH',\n",
              "       'Port Angeles, WA', 'Bedford, MA', 'Jackson, WY', 'Buffalo, NY',\n",
              "       'La Conner, WA', 'Charlottesville, VA', 'Lahaina, HI',\n",
              "       'Chania, Greece', 'Marysville, WA', 'Fort Lauderdale, FL',\n",
              "       'Sultan, WA', 'Oakland, CA', 'Kula, HI', 'Boise, ID',\n",
              "       'Rishon LeTsiyon, Israel', 'Sarasota, FL', 'Lynnwood, WA',\n",
              "       'Lake Stevens, WA', 'London, United Kingdom', 'Federal Way, WA',\n",
              "       'Hong Kong', 'Cary, NC', 'Lake Forest Park, WA', 'Auburn, WA',\n",
              "       'Coffman Cove, AK', 'Langley, WA', 'Pittsburgh, PA', 'Boston, MA',\n",
              "       'Olympia, WA', 'Dallas, TX', 'Armonk, NY', 'Texas, United States',\n",
              "       'Palencia, Spain', 'Amsterdam, Netherlands', 'Culiacán, Mexico',\n",
              "       'Florida, United States', 'Coupeville, WA', 'Oak Point, TX',\n",
              "       'Piedmont, Italy', 'Golden, CO', 'Woodway, WA', 'Scottsdale, AZ',\n",
              "       'Antelope, CA', 'Hanover, NJ', 'Corinth, TX', 'Brookline, MA',\n",
              "       'Sunnyvale, CA', 'Phoenix, AZ', 'New York, United States',\n",
              "       'Menlo Park, CA', 'Las Vegas, NV', 'Charlotte, NC',\n",
              "       'Dublin, Ireland', 'Stafford, TX', 'Farmington Hills, MI',\n",
              "       'Liverpool, United Kingdom', 'Arizona, United States',\n",
              "       'Snohomish, WA', 'Kenmore, WA', 'Little Rock, AR',\n",
              "       'Cumberland, Canada', 'Manhattan Beach, CA', 'Pompano Beach, FL',\n",
              "       'Salt Lake City, UT', 'Everett, WA', 'Rochester, NY', 'Miami, FL',\n",
              "       'Victoria, Canada', 'Brisbane, CA', 'Alexandria, VA',\n",
              "       'Santa Clara, CA', 'Tallahassee, FL', 'Saratoga Springs, NY',\n",
              "       'Corona, CA', 'Rio del Mar, CA', 'College Park, MD',\n",
              "       'Lafayette, CA', 'Nouvelle-Aquitaine, France', 'Washington, DC',\n",
              "       'Encinitas, CA', 'Oslo, Norway', 'Kennewick, WA',\n",
              "       'Toronto, Canada'], dtype=object)"
            ]
          },
          "execution_count": 55,
          "metadata": {},
          "output_type": "execute_result"
        }
      ],
      "source": [
        "updated_df['host_location'].unique()"
      ]
    },
    {
      "cell_type": "code",
      "execution_count": 56,
      "metadata": {},
      "outputs": [
        {
          "data": {
            "text/html": [
              "<div>\n",
              "<style scoped>\n",
              "    .dataframe tbody tr th:only-of-type {\n",
              "        vertical-align: middle;\n",
              "    }\n",
              "\n",
              "    .dataframe tbody tr th {\n",
              "        vertical-align: top;\n",
              "    }\n",
              "\n",
              "    .dataframe thead th {\n",
              "        text-align: right;\n",
              "    }\n",
              "</style>\n",
              "<table border=\"1\" class=\"dataframe\">\n",
              "  <thead>\n",
              "    <tr style=\"text-align: right;\">\n",
              "      <th></th>\n",
              "      <th>id</th>\n",
              "      <th>host_id</th>\n",
              "      <th>host_name</th>\n",
              "      <th>host_since</th>\n",
              "      <th>host_location</th>\n",
              "      <th>host_response_time</th>\n",
              "      <th>host_response_rate</th>\n",
              "      <th>host_acceptance_rate</th>\n",
              "      <th>host_is_superhost</th>\n",
              "      <th>host_listings_count</th>\n",
              "      <th>...</th>\n",
              "      <th>bedrooms</th>\n",
              "      <th>beds</th>\n",
              "      <th>amenities</th>\n",
              "      <th>price</th>\n",
              "      <th>number_of_reviews</th>\n",
              "      <th>review_scores_value</th>\n",
              "      <th>calculated_host_listings_count</th>\n",
              "      <th>amenities_count</th>\n",
              "      <th>city</th>\n",
              "      <th>num_bath</th>\n",
              "    </tr>\n",
              "  </thead>\n",
              "  <tbody>\n",
              "  </tbody>\n",
              "</table>\n",
              "<p>0 rows × 31 columns</p>\n",
              "</div>"
            ],
            "text/plain": [
              "Empty DataFrame\n",
              "Columns: [id, host_id, host_name, host_since, host_location, host_response_time, host_response_rate, host_acceptance_rate, host_is_superhost, host_listings_count, host_total_listings_count, host_verifications, host_has_profile_pic, host_identity_verified, neighbourhood, neighbourhood_cleansed, latitude, longitude, room_type, accommodates, bathrooms_text, bedrooms, beds, amenities, price, number_of_reviews, review_scores_value, calculated_host_listings_count, amenities_count, city, num_bath]\n",
              "Index: []\n",
              "\n",
              "[0 rows x 31 columns]"
            ]
          },
          "execution_count": 56,
          "metadata": {},
          "output_type": "execute_result"
        }
      ],
      "source": [
        "updated_df[updated_df['host_location'] =='']"
      ]
    },
    {
      "cell_type": "code",
      "execution_count": 57,
      "metadata": {},
      "outputs": [
        {
          "data": {
            "text/html": [
              "<div>\n",
              "<style scoped>\n",
              "    .dataframe tbody tr th:only-of-type {\n",
              "        vertical-align: middle;\n",
              "    }\n",
              "\n",
              "    .dataframe tbody tr th {\n",
              "        vertical-align: top;\n",
              "    }\n",
              "\n",
              "    .dataframe thead th {\n",
              "        text-align: right;\n",
              "    }\n",
              "</style>\n",
              "<table border=\"1\" class=\"dataframe\">\n",
              "  <thead>\n",
              "    <tr style=\"text-align: right;\">\n",
              "      <th></th>\n",
              "      <th>id</th>\n",
              "      <th>host_id</th>\n",
              "      <th>host_name</th>\n",
              "      <th>host_since</th>\n",
              "      <th>host_location</th>\n",
              "      <th>host_response_time</th>\n",
              "      <th>host_response_rate</th>\n",
              "      <th>host_acceptance_rate</th>\n",
              "      <th>host_is_superhost</th>\n",
              "      <th>host_listings_count</th>\n",
              "      <th>...</th>\n",
              "      <th>bedrooms</th>\n",
              "      <th>beds</th>\n",
              "      <th>amenities</th>\n",
              "      <th>price</th>\n",
              "      <th>number_of_reviews</th>\n",
              "      <th>review_scores_value</th>\n",
              "      <th>calculated_host_listings_count</th>\n",
              "      <th>amenities_count</th>\n",
              "      <th>city</th>\n",
              "      <th>num_bath</th>\n",
              "    </tr>\n",
              "  </thead>\n",
              "  <tbody>\n",
              "  </tbody>\n",
              "</table>\n",
              "<p>0 rows × 31 columns</p>\n",
              "</div>"
            ],
            "text/plain": [
              "Empty DataFrame\n",
              "Columns: [id, host_id, host_name, host_since, host_location, host_response_time, host_response_rate, host_acceptance_rate, host_is_superhost, host_listings_count, host_total_listings_count, host_verifications, host_has_profile_pic, host_identity_verified, neighbourhood, neighbourhood_cleansed, latitude, longitude, room_type, accommodates, bathrooms_text, bedrooms, beds, amenities, price, number_of_reviews, review_scores_value, calculated_host_listings_count, amenities_count, city, num_bath]\n",
              "Index: []\n",
              "\n",
              "[0 rows x 31 columns]"
            ]
          },
          "execution_count": 57,
          "metadata": {},
          "output_type": "execute_result"
        }
      ],
      "source": [
        "updated_df[updated_df['host_location'] ==' ']"
      ]
    },
    {
      "cell_type": "markdown",
      "metadata": {},
      "source": [
        "# host_is_superhost"
      ]
    },
    {
      "cell_type": "code",
      "execution_count": 58,
      "metadata": {},
      "outputs": [
        {
          "name": "stdout",
          "output_type": "stream",
          "text": [
            "There are 0 missing values in the \"host_is_superhost\" column.\n"
          ]
        }
      ],
      "source": [
        "# check the number of missing values\n",
        "na = updated_df['host_is_superhost'].isnull().sum()\n",
        "print(f'There are {na} missing values in the \"host_is_superhost\" column.')\n",
        "\n",
        "updated_df['host_is_superhost'].fillna(\"f\", inplace=True)"
      ]
    },
    {
      "cell_type": "code",
      "execution_count": 59,
      "metadata": {},
      "outputs": [
        {
          "data": {
            "text/plain": [
              "0"
            ]
          },
          "execution_count": 59,
          "metadata": {},
          "output_type": "execute_result"
        }
      ],
      "source": [
        "updated_df['host_is_superhost'].isnull().sum()"
      ]
    },
    {
      "cell_type": "code",
      "execution_count": 60,
      "metadata": {},
      "outputs": [
        {
          "data": {
            "text/plain": [
              "3432"
            ]
          },
          "execution_count": 60,
          "metadata": {},
          "output_type": "execute_result"
        }
      ],
      "source": [
        "count_unknown_super = (updated_df['host_is_superhost'] == 'f').sum()\n",
        "count_unknown_super"
      ]
    },
    {
      "cell_type": "code",
      "execution_count": 61,
      "metadata": {},
      "outputs": [
        {
          "data": {
            "text/plain": [
              "array(['f', 't'], dtype=object)"
            ]
          },
          "execution_count": 61,
          "metadata": {},
          "output_type": "execute_result"
        }
      ],
      "source": [
        "updated_df['host_is_superhost'].unique()"
      ]
    },
    {
      "cell_type": "markdown",
      "metadata": {},
      "source": [
        "# host_listings_count"
      ]
    },
    {
      "cell_type": "code",
      "execution_count": 62,
      "metadata": {},
      "outputs": [
        {
          "name": "stdout",
          "output_type": "stream",
          "text": [
            "There are 0 missing values in the \"host_listings_count\" column.\n"
          ]
        }
      ],
      "source": [
        "na = updated_df['host_listings_count'].isnull().sum()\n",
        "print(f'There are {na} missing values in the \"host_listings_count\" column.')\n",
        "\n",
        "updated_df['host_listings_count'].fillna(1, inplace=True)"
      ]
    },
    {
      "cell_type": "code",
      "execution_count": 63,
      "metadata": {},
      "outputs": [
        {
          "data": {
            "text/plain": [
              "0"
            ]
          },
          "execution_count": 63,
          "metadata": {},
          "output_type": "execute_result"
        }
      ],
      "source": [
        "updated_df['host_listings_count'].isnull().sum()"
      ]
    },
    {
      "cell_type": "code",
      "execution_count": 64,
      "metadata": {},
      "outputs": [
        {
          "data": {
            "text/plain": [
              "array([   5,    9,    2,   10,    1,    4,    3,   12,   11,    6,  187,\n",
              "        118,    7,    8,   27, 1629,   17,   13,   14,   36,   48,   38,\n",
              "         22,   44,   51,   21,   15,   91, 1054,   79,   50,   16,   41,\n",
              "        156,   66,   18, 1502,  417,   28,   39,   49, 4807,   19,  275,\n",
              "         26,  201,  202,   23, 3302,   81,   57,   83,   71,  763,  154,\n",
              "         42,  519,   25,   53,  174,  246,  105,   31,  291,   20,  385,\n",
              "         77,  635,  287,   24,  151,   67,   40])"
            ]
          },
          "execution_count": 64,
          "metadata": {},
          "output_type": "execute_result"
        }
      ],
      "source": [
        "updated_df['host_listings_count'].unique()"
      ]
    },
    {
      "cell_type": "markdown",
      "metadata": {},
      "source": [
        "# host_total_listings_count"
      ]
    },
    {
      "cell_type": "code",
      "execution_count": 65,
      "metadata": {},
      "outputs": [
        {
          "name": "stdout",
          "output_type": "stream",
          "text": [
            "There are 0 missing values in the \"host_total_listings_count\" column.\n"
          ]
        }
      ],
      "source": [
        "na = updated_df['host_total_listings_count'].isnull().sum()\n",
        "print(f'There are {na} missing values in the \"host_total_listings_count\" column.')\n",
        "\n",
        "updated_df['host_total_listings_count'].fillna(1, inplace=True)\n"
      ]
    },
    {
      "cell_type": "code",
      "execution_count": 66,
      "metadata": {},
      "outputs": [
        {
          "data": {
            "text/plain": [
              "0"
            ]
          },
          "execution_count": 66,
          "metadata": {},
          "output_type": "execute_result"
        }
      ],
      "source": [
        "updated_df['host_total_listings_count'].isnull().sum()"
      ]
    },
    {
      "cell_type": "code",
      "execution_count": 67,
      "metadata": {},
      "outputs": [
        {
          "data": {
            "text/plain": [
              "array([   5,   10,    2,   15,    4,    1,    3,   21,    6,   11,   13,\n",
              "         12,   22,  286,  179,    7,    8,   27,    9,   28,   14,   20,\n",
              "       1930,   19,   60,   17,   42,   64,   44,   33,   24,  120,   63,\n",
              "         23,  232,  274,   18, 1859,  112,   72,   16,   59,  483,   75,\n",
              "         37, 1967,  117,   54,  569,   55,   50,   68, 5370,   92,   25,\n",
              "        560,   48,   35,  239,  223,   26, 4535,   77,   83,  115,   85,\n",
              "        151, 1486,   49,  326,  149,  802,  101,  668,  294,  164,   73,\n",
              "         30,  567,  465,   91,  690,  378,  418,  247,   31,   40])"
            ]
          },
          "execution_count": 67,
          "metadata": {},
          "output_type": "execute_result"
        }
      ],
      "source": [
        "updated_df['host_total_listings_count'].unique()"
      ]
    },
    {
      "cell_type": "markdown",
      "metadata": {},
      "source": [
        "# host_verifications"
      ]
    },
    {
      "cell_type": "code",
      "execution_count": 68,
      "metadata": {},
      "outputs": [
        {
          "name": "stdout",
          "output_type": "stream",
          "text": [
            "There are 0 missing values in the \"host_verifications\" column.\n"
          ]
        }
      ],
      "source": [
        "na = updated_df['host_verifications'].isnull().sum()\n",
        "print(f'There are {na} missing values in the \"host_verifications\" column.')\n",
        "\n",
        "updated_df['host_verifications'].fillna(\"None\", inplace=True)\n"
      ]
    },
    {
      "cell_type": "code",
      "execution_count": 69,
      "metadata": {},
      "outputs": [
        {
          "data": {
            "text/plain": [
              "array([\"['email', 'phone']\", \"['email', 'phone', 'work_email']\",\n",
              "       \"['phone']\", \"['email']\", \"['phone', 'work_email']\"], dtype=object)"
            ]
          },
          "execution_count": 69,
          "metadata": {},
          "output_type": "execute_result"
        }
      ],
      "source": [
        "updated_df['host_verifications'].unique()"
      ]
    },
    {
      "cell_type": "code",
      "execution_count": 70,
      "metadata": {},
      "outputs": [
        {
          "data": {
            "text/html": [
              "<div>\n",
              "<style scoped>\n",
              "    .dataframe tbody tr th:only-of-type {\n",
              "        vertical-align: middle;\n",
              "    }\n",
              "\n",
              "    .dataframe tbody tr th {\n",
              "        vertical-align: top;\n",
              "    }\n",
              "\n",
              "    .dataframe thead th {\n",
              "        text-align: right;\n",
              "    }\n",
              "</style>\n",
              "<table border=\"1\" class=\"dataframe\">\n",
              "  <thead>\n",
              "    <tr style=\"text-align: right;\">\n",
              "      <th></th>\n",
              "      <th>id</th>\n",
              "      <th>host_id</th>\n",
              "      <th>host_name</th>\n",
              "      <th>host_since</th>\n",
              "      <th>host_location</th>\n",
              "      <th>host_response_time</th>\n",
              "      <th>host_response_rate</th>\n",
              "      <th>host_acceptance_rate</th>\n",
              "      <th>host_is_superhost</th>\n",
              "      <th>host_listings_count</th>\n",
              "      <th>...</th>\n",
              "      <th>bedrooms</th>\n",
              "      <th>beds</th>\n",
              "      <th>amenities</th>\n",
              "      <th>price</th>\n",
              "      <th>number_of_reviews</th>\n",
              "      <th>review_scores_value</th>\n",
              "      <th>calculated_host_listings_count</th>\n",
              "      <th>amenities_count</th>\n",
              "      <th>city</th>\n",
              "      <th>num_bath</th>\n",
              "    </tr>\n",
              "  </thead>\n",
              "  <tbody>\n",
              "  </tbody>\n",
              "</table>\n",
              "<p>0 rows × 31 columns</p>\n",
              "</div>"
            ],
            "text/plain": [
              "Empty DataFrame\n",
              "Columns: [id, host_id, host_name, host_since, host_location, host_response_time, host_response_rate, host_acceptance_rate, host_is_superhost, host_listings_count, host_total_listings_count, host_verifications, host_has_profile_pic, host_identity_verified, neighbourhood, neighbourhood_cleansed, latitude, longitude, room_type, accommodates, bathrooms_text, bedrooms, beds, amenities, price, number_of_reviews, review_scores_value, calculated_host_listings_count, amenities_count, city, num_bath]\n",
              "Index: []\n",
              "\n",
              "[0 rows x 31 columns]"
            ]
          },
          "execution_count": 70,
          "metadata": {},
          "output_type": "execute_result"
        }
      ],
      "source": [
        "updated_df[updated_df['host_verifications'] == '[]']"
      ]
    },
    {
      "cell_type": "code",
      "execution_count": 71,
      "metadata": {},
      "outputs": [],
      "source": [
        "# Replace '[]' with None in 'host_verifications' column\n",
        "updated_df['host_verifications'] = updated_df['host_verifications'].replace('[]', \"None\")\n"
      ]
    },
    {
      "cell_type": "code",
      "execution_count": 72,
      "metadata": {},
      "outputs": [
        {
          "data": {
            "text/plain": [
              "array([\"['email', 'phone']\", \"['email', 'phone', 'work_email']\",\n",
              "       \"['phone']\", \"['email']\", \"['phone', 'work_email']\"], dtype=object)"
            ]
          },
          "execution_count": 72,
          "metadata": {},
          "output_type": "execute_result"
        }
      ],
      "source": [
        "updated_df['host_verifications'].unique()"
      ]
    },
    {
      "cell_type": "markdown",
      "metadata": {},
      "source": [
        "# host_identity_verified"
      ]
    },
    {
      "cell_type": "code",
      "execution_count": 73,
      "metadata": {},
      "outputs": [
        {
          "name": "stdout",
          "output_type": "stream",
          "text": [
            "There are 0 missing values in the \"host_identity_verified\" column.\n"
          ]
        }
      ],
      "source": [
        "na = updated_df['host_identity_verified'].isnull().sum()\n",
        "print(f'There are {na} missing values in the \"host_identity_verified\" column.')\n",
        "\n",
        "updated_df['host_identity_verified'].fillna(\"f\", inplace=True)\n"
      ]
    },
    {
      "cell_type": "code",
      "execution_count": 74,
      "metadata": {},
      "outputs": [
        {
          "data": {
            "text/plain": [
              "array(['t', 'f'], dtype=object)"
            ]
          },
          "execution_count": 74,
          "metadata": {},
          "output_type": "execute_result"
        }
      ],
      "source": [
        "updated_df['host_identity_verified'].unique()"
      ]
    },
    {
      "cell_type": "markdown",
      "metadata": {},
      "source": [
        "# calculated_host_listings_count"
      ]
    },
    {
      "cell_type": "code",
      "execution_count": 75,
      "metadata": {},
      "outputs": [
        {
          "name": "stdout",
          "output_type": "stream",
          "text": [
            "There are 0 missing values in the \"calculated_host_listings_count\" column.\n"
          ]
        }
      ],
      "source": [
        "na = updated_df['calculated_host_listings_count'].isnull().sum()\n",
        "print(f'There are {na} missing values in the \"calculated_host_listings_count\" column.')\n",
        "\n",
        "updated_df['calculated_host_listings_count'].fillna(1, inplace=True)"
      ]
    },
    {
      "cell_type": "code",
      "execution_count": 76,
      "metadata": {},
      "outputs": [
        {
          "data": {
            "text/plain": [
              "array([  3,   9,   2,  10,   1,   4,   5, 117,   7,   6,  11,   8,  27,\n",
              "        32,  16,  14,  18,  15,  39,  49,  52, 112, 408,  21,  20,  87,\n",
              "        26,  47,  12,  53,  17,  13,  54])"
            ]
          },
          "execution_count": 76,
          "metadata": {},
          "output_type": "execute_result"
        }
      ],
      "source": [
        "updated_df['calculated_host_listings_count'].unique()"
      ]
    },
    {
      "cell_type": "markdown",
      "metadata": {},
      "source": [
        "# host_name"
      ]
    },
    {
      "cell_type": "code",
      "execution_count": 77,
      "metadata": {},
      "outputs": [
        {
          "data": {
            "text/html": [
              "<div>\n",
              "<style scoped>\n",
              "    .dataframe tbody tr th:only-of-type {\n",
              "        vertical-align: middle;\n",
              "    }\n",
              "\n",
              "    .dataframe tbody tr th {\n",
              "        vertical-align: top;\n",
              "    }\n",
              "\n",
              "    .dataframe thead th {\n",
              "        text-align: right;\n",
              "    }\n",
              "</style>\n",
              "<table border=\"1\" class=\"dataframe\">\n",
              "  <thead>\n",
              "    <tr style=\"text-align: right;\">\n",
              "      <th></th>\n",
              "      <th>id</th>\n",
              "      <th>host_id</th>\n",
              "      <th>host_name</th>\n",
              "      <th>host_since</th>\n",
              "      <th>host_location</th>\n",
              "      <th>host_response_time</th>\n",
              "      <th>host_response_rate</th>\n",
              "      <th>host_acceptance_rate</th>\n",
              "      <th>host_is_superhost</th>\n",
              "      <th>host_listings_count</th>\n",
              "      <th>...</th>\n",
              "      <th>bedrooms</th>\n",
              "      <th>beds</th>\n",
              "      <th>amenities</th>\n",
              "      <th>price</th>\n",
              "      <th>number_of_reviews</th>\n",
              "      <th>review_scores_value</th>\n",
              "      <th>calculated_host_listings_count</th>\n",
              "      <th>amenities_count</th>\n",
              "      <th>city</th>\n",
              "      <th>num_bath</th>\n",
              "    </tr>\n",
              "  </thead>\n",
              "  <tbody>\n",
              "  </tbody>\n",
              "</table>\n",
              "<p>0 rows × 31 columns</p>\n",
              "</div>"
            ],
            "text/plain": [
              "Empty DataFrame\n",
              "Columns: [id, host_id, host_name, host_since, host_location, host_response_time, host_response_rate, host_acceptance_rate, host_is_superhost, host_listings_count, host_total_listings_count, host_verifications, host_has_profile_pic, host_identity_verified, neighbourhood, neighbourhood_cleansed, latitude, longitude, room_type, accommodates, bathrooms_text, bedrooms, beds, amenities, price, number_of_reviews, review_scores_value, calculated_host_listings_count, amenities_count, city, num_bath]\n",
              "Index: []\n",
              "\n",
              "[0 rows x 31 columns]"
            ]
          },
          "execution_count": 77,
          "metadata": {},
          "output_type": "execute_result"
        }
      ],
      "source": [
        "updated_df[updated_df['host_name'].isnull()]"
      ]
    },
    {
      "cell_type": "markdown",
      "metadata": {},
      "source": [
        "# host_has_profile_pic"
      ]
    },
    {
      "cell_type": "code",
      "execution_count": 78,
      "metadata": {},
      "outputs": [
        {
          "data": {
            "text/html": [
              "<div>\n",
              "<style scoped>\n",
              "    .dataframe tbody tr th:only-of-type {\n",
              "        vertical-align: middle;\n",
              "    }\n",
              "\n",
              "    .dataframe tbody tr th {\n",
              "        vertical-align: top;\n",
              "    }\n",
              "\n",
              "    .dataframe thead th {\n",
              "        text-align: right;\n",
              "    }\n",
              "</style>\n",
              "<table border=\"1\" class=\"dataframe\">\n",
              "  <thead>\n",
              "    <tr style=\"text-align: right;\">\n",
              "      <th></th>\n",
              "      <th>id</th>\n",
              "      <th>host_id</th>\n",
              "      <th>host_name</th>\n",
              "      <th>host_since</th>\n",
              "      <th>host_location</th>\n",
              "      <th>host_response_time</th>\n",
              "      <th>host_response_rate</th>\n",
              "      <th>host_acceptance_rate</th>\n",
              "      <th>host_is_superhost</th>\n",
              "      <th>host_listings_count</th>\n",
              "      <th>...</th>\n",
              "      <th>bedrooms</th>\n",
              "      <th>beds</th>\n",
              "      <th>amenities</th>\n",
              "      <th>price</th>\n",
              "      <th>number_of_reviews</th>\n",
              "      <th>review_scores_value</th>\n",
              "      <th>calculated_host_listings_count</th>\n",
              "      <th>amenities_count</th>\n",
              "      <th>city</th>\n",
              "      <th>num_bath</th>\n",
              "    </tr>\n",
              "  </thead>\n",
              "  <tbody>\n",
              "  </tbody>\n",
              "</table>\n",
              "<p>0 rows × 31 columns</p>\n",
              "</div>"
            ],
            "text/plain": [
              "Empty DataFrame\n",
              "Columns: [id, host_id, host_name, host_since, host_location, host_response_time, host_response_rate, host_acceptance_rate, host_is_superhost, host_listings_count, host_total_listings_count, host_verifications, host_has_profile_pic, host_identity_verified, neighbourhood, neighbourhood_cleansed, latitude, longitude, room_type, accommodates, bathrooms_text, bedrooms, beds, amenities, price, number_of_reviews, review_scores_value, calculated_host_listings_count, amenities_count, city, num_bath]\n",
              "Index: []\n",
              "\n",
              "[0 rows x 31 columns]"
            ]
          },
          "execution_count": 78,
          "metadata": {},
          "output_type": "execute_result"
        }
      ],
      "source": [
        "updated_df[updated_df['host_has_profile_pic'].isnull()]"
      ]
    },
    {
      "cell_type": "code",
      "execution_count": 79,
      "metadata": {},
      "outputs": [
        {
          "data": {
            "text/plain": [
              "array(['t', 'f'], dtype=object)"
            ]
          },
          "execution_count": 79,
          "metadata": {},
          "output_type": "execute_result"
        }
      ],
      "source": [
        "updated_df['host_has_profile_pic'].unique()"
      ]
    },
    {
      "cell_type": "code",
      "execution_count": 80,
      "metadata": {},
      "outputs": [
        {
          "name": "stdout",
          "output_type": "stream",
          "text": [
            "There are 0 missing values in the \"host_has_profile_pic\" column.\n"
          ]
        }
      ],
      "source": [
        "na = updated_df['host_has_profile_pic'].isnull().sum()\n",
        "print(f'There are {na} missing values in the \"host_has_profile_pic\" column.')\n",
        "\n",
        "updated_df['host_has_profile_pic'].fillna('f', inplace=True)"
      ]
    },
    {
      "cell_type": "markdown",
      "metadata": {},
      "source": [
        "# Neighborhood"
      ]
    },
    {
      "cell_type": "code",
      "execution_count": 81,
      "metadata": {},
      "outputs": [
        {
          "data": {
            "text/plain": [
              "array(['Seattle, Washington, United States', nan,\n",
              "       'Ballard, Seattle, Washington, United States',\n",
              "       'West Seattle, Washington, United States',\n",
              "       'Ballard Seattle, Washington, United States',\n",
              "       'Capitol Hill, Seattle, Washington, United States',\n",
              "       'West Seattle, Washington, Washington, United States',\n",
              "       'Seattle, Wa, United States',\n",
              "       'Shoreline, Washington, United States',\n",
              "       'Seattle , Washington, United States'], dtype=object)"
            ]
          },
          "execution_count": 81,
          "metadata": {},
          "output_type": "execute_result"
        }
      ],
      "source": [
        "updated_df['neighbourhood'].unique()"
      ]
    },
    {
      "cell_type": "code",
      "execution_count": 82,
      "metadata": {},
      "outputs": [
        {
          "data": {
            "text/plain": [
              "1705"
            ]
          },
          "execution_count": 82,
          "metadata": {},
          "output_type": "execute_result"
        }
      ],
      "source": [
        "updated_df['neighbourhood'].isnull().sum()"
      ]
    },
    {
      "cell_type": "code",
      "execution_count": 83,
      "metadata": {},
      "outputs": [
        {
          "data": {
            "text/plain": [
              "array(['Wallingford', 'Georgetown', 'Fairmount Park', 'Whittier Heights',\n",
              "       'Eastlake', 'Fremont', 'Green Lake', 'Portage Bay',\n",
              "       'Lower Queen Anne', 'Phinney Ridge', 'Crown Hill', 'Columbia City',\n",
              "       'Lawton Park', 'Mid-Beacon Hill', 'Alki', 'North Queen Anne',\n",
              "       'West Queen Anne', 'First Hill', 'Broadway', 'Stevens',\n",
              "       'North Admiral', 'International District', 'North Beacon Hill',\n",
              "       'Greenwood', 'Cedar Park', 'Mount Baker', 'Mann', 'Genesee',\n",
              "       'Central Business District', 'Ravenna', 'Belltown',\n",
              "       'University District', 'Harrison/Denny-Blaine', 'South Delridge',\n",
              "       'Atlantic', 'Broadview', 'Maple Leaf', 'East Queen Anne',\n",
              "       'Pioneer Square', 'Leschi', 'Seward Park', 'West Woodland',\n",
              "       'Adams', 'Bitter Lake', 'Brighton', 'Interbay', 'Madrona',\n",
              "       'View Ridge', 'North Delridge', 'Pike-Market', 'High Point',\n",
              "       'Yesler Terrace', 'Laurelhurst', 'Fauntleroy', 'Harbor Island',\n",
              "       'Windermere', 'Minor', 'Rainier Beach', 'Victory Heights',\n",
              "       'Seaview', 'Bryant', 'Sunset Hill', 'Madison Park', 'Roosevelt',\n",
              "       'Dunlap', 'Matthews Beach', 'Southeast Magnolia', 'Olympic Hills',\n",
              "       'North Beach/Blue Ridge', 'Gatewood', 'Briarcliff', 'Haller Lake',\n",
              "       'Loyal Heights', 'North College Park', 'Highland Park',\n",
              "       'Riverview', 'Pinehurst', 'Montlake', 'Wedgwood', 'Meadowbrook',\n",
              "       'Rainier View', 'Westlake', 'South Beacon Hill',\n",
              "       'Industrial District', 'Arbor Heights', 'South Park',\n",
              "       'South Lake Union', 'Roxhill', 'Holly Park'], dtype=object)"
            ]
          },
          "execution_count": 83,
          "metadata": {},
          "output_type": "execute_result"
        }
      ],
      "source": [
        "updated_df['neighbourhood_cleansed'].unique()"
      ]
    },
    {
      "cell_type": "markdown",
      "metadata": {},
      "source": [
        "### We are going to drop neighbourhood column for Seattle Dataset"
      ]
    },
    {
      "cell_type": "code",
      "execution_count": 84,
      "metadata": {},
      "outputs": [],
      "source": [
        "updated_df.drop('neighbourhood', axis=1, inplace=True)"
      ]
    },
    {
      "cell_type": "markdown",
      "metadata": {},
      "source": [
        "# Final look into missing values"
      ]
    },
    {
      "cell_type": "code",
      "execution_count": 85,
      "metadata": {},
      "outputs": [
        {
          "data": {
            "text/plain": [
              "id                                   0\n",
              "host_id                              0\n",
              "host_name                            0\n",
              "host_since                           0\n",
              "host_location                        0\n",
              "host_response_time                 720\n",
              "host_response_rate                 720\n",
              "host_acceptance_rate               455\n",
              "host_is_superhost                    0\n",
              "host_listings_count                  0\n",
              "host_total_listings_count            0\n",
              "host_verifications                   0\n",
              "host_has_profile_pic                 0\n",
              "host_identity_verified               0\n",
              "neighbourhood_cleansed               0\n",
              "latitude                             0\n",
              "longitude                            0\n",
              "room_type                            0\n",
              "accommodates                         0\n",
              "bathrooms_text                       0\n",
              "bedrooms                             0\n",
              "beds                                 0\n",
              "amenities                            0\n",
              "price                                0\n",
              "number_of_reviews                    0\n",
              "review_scores_value               1091\n",
              "calculated_host_listings_count       0\n",
              "amenities_count                      0\n",
              "city                                 0\n",
              "num_bath                             0\n",
              "dtype: int64"
            ]
          },
          "execution_count": 85,
          "metadata": {},
          "output_type": "execute_result"
        }
      ],
      "source": [
        "updated_df.isnull().sum()"
      ]
    },
    {
      "cell_type": "markdown",
      "metadata": {},
      "source": [
        "# Save the Final Dataframe"
      ]
    },
    {
      "cell_type": "code",
      "execution_count": 88,
      "metadata": {},
      "outputs": [],
      "source": [
        "updated_df.to_csv('data/listings_detailed_after_na_seattle.csv', index=False)"
      ]
    },
    {
      "cell_type": "markdown",
      "metadata": {},
      "source": []
    }
  ],
  "metadata": {
    "colab": {
      "provenance": []
    },
    "kernelspec": {
      "display_name": "Python 3",
      "name": "python3"
    },
    "language_info": {
      "codemirror_mode": {
        "name": "ipython",
        "version": 3
      },
      "file_extension": ".py",
      "mimetype": "text/x-python",
      "name": "python",
      "nbconvert_exporter": "python",
      "pygments_lexer": "ipython3",
      "version": "3.11.4"
    }
  },
  "nbformat": 4,
  "nbformat_minor": 0
}
